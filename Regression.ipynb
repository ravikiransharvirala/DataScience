{
 "cells": [
  {
   "cell_type": "code",
   "execution_count": 1,
   "metadata": {
    "collapsed": false
   },
   "outputs": [
    {
     "name": "stderr",
     "output_type": "stream",
     "text": [
      "A newer version of GraphLab Create (v1.8.5) is available! Your current version is v1.8.\n",
      "\n",
      "You can use pip to upgrade the graphlab-create package. For more information see https://dato.com/products/create/upgrade.\n"
     ]
    }
   ],
   "source": [
    "import graphlab as gl"
   ]
  },
  {
   "cell_type": "code",
   "execution_count": 2,
   "metadata": {
    "collapsed": false
   },
   "outputs": [
    {
     "name": "stderr",
     "output_type": "stream",
     "text": [
      "[INFO] This non-commercial license of GraphLab Create is assigned to rsharvirala@scu.edu and will expire on January 23, 2017. For commercial licensing options, visit https://dato.com/buy/.\n",
      "\n",
      "[INFO] Start server at: ipc:///tmp/graphlab_server-974 - Server binary: /Users/ravikiran/anaconda/envs/dato-env/lib/python2.7/site-packages/graphlab/unity_server - Server log: /tmp/graphlab_server_1460095322.log\n",
      "[INFO] GraphLab Server Version: 1.8\n"
     ]
    },
    {
     "name": "stdout",
     "output_type": "stream",
     "text": [
      "PROGRESS: Downloading http://s3.amazonaws.com/dato-datasets/regression/houses.csv to /var/tmp/graphlab-ravikiran/974/172fbac9-2369-40ba-9536-657c48ed2fbd.csv\n",
      "PROGRESS: Finished parsing file http://s3.amazonaws.com/dato-datasets/regression/houses.csv\n",
      "PROGRESS: Parsing completed. Parsed 15 lines in 0.025193 secs.\n",
      "------------------------------------------------------\n",
      "Inferred types from first line of file as \n",
      "column_type_hints=[int,int,float,int,int,int]\n",
      "If parsing fails due to incorrect types, you can correct\n",
      "the inferred type list above and pass it to read_csv in\n",
      "the column_type_hints argument\n",
      "------------------------------------------------------\n",
      "PROGRESS: Finished parsing file http://s3.amazonaws.com/dato-datasets/regression/houses.csv\n",
      "PROGRESS: Parsing completed. Parsed 15 lines in 0.016247 secs.\n"
     ]
    }
   ],
   "source": [
    "data = gl.SFrame('http://s3.amazonaws.com/dato-datasets/regression/houses.csv')"
   ]
  },
  {
   "cell_type": "code",
   "execution_count": 3,
   "metadata": {
    "collapsed": false
   },
   "outputs": [
    {
     "data": {
      "text/html": [
       "<div style=\"max-height:1000px;max-width:1500px;overflow:auto;\"><table frame=\"box\" rules=\"cols\">\n",
       "    <tr>\n",
       "        <th style=\"padding-left: 1em; padding-right: 1em; text-align: center\">tax</th>\n",
       "        <th style=\"padding-left: 1em; padding-right: 1em; text-align: center\">bedroom</th>\n",
       "        <th style=\"padding-left: 1em; padding-right: 1em; text-align: center\">bath</th>\n",
       "        <th style=\"padding-left: 1em; padding-right: 1em; text-align: center\">price</th>\n",
       "        <th style=\"padding-left: 1em; padding-right: 1em; text-align: center\">size</th>\n",
       "        <th style=\"padding-left: 1em; padding-right: 1em; text-align: center\">lot</th>\n",
       "    </tr>\n",
       "    <tr>\n",
       "        <td style=\"padding-left: 1em; padding-right: 1em; text-align: center; vertical-align: top\">590</td>\n",
       "        <td style=\"padding-left: 1em; padding-right: 1em; text-align: center; vertical-align: top\">2</td>\n",
       "        <td style=\"padding-left: 1em; padding-right: 1em; text-align: center; vertical-align: top\">1.0</td>\n",
       "        <td style=\"padding-left: 1em; padding-right: 1em; text-align: center; vertical-align: top\">50000</td>\n",
       "        <td style=\"padding-left: 1em; padding-right: 1em; text-align: center; vertical-align: top\">770</td>\n",
       "        <td style=\"padding-left: 1em; padding-right: 1em; text-align: center; vertical-align: top\">22100</td>\n",
       "    </tr>\n",
       "    <tr>\n",
       "        <td style=\"padding-left: 1em; padding-right: 1em; text-align: center; vertical-align: top\">1050</td>\n",
       "        <td style=\"padding-left: 1em; padding-right: 1em; text-align: center; vertical-align: top\">3</td>\n",
       "        <td style=\"padding-left: 1em; padding-right: 1em; text-align: center; vertical-align: top\">2.0</td>\n",
       "        <td style=\"padding-left: 1em; padding-right: 1em; text-align: center; vertical-align: top\">85000</td>\n",
       "        <td style=\"padding-left: 1em; padding-right: 1em; text-align: center; vertical-align: top\">1410</td>\n",
       "        <td style=\"padding-left: 1em; padding-right: 1em; text-align: center; vertical-align: top\">12000</td>\n",
       "    </tr>\n",
       "    <tr>\n",
       "        <td style=\"padding-left: 1em; padding-right: 1em; text-align: center; vertical-align: top\">20</td>\n",
       "        <td style=\"padding-left: 1em; padding-right: 1em; text-align: center; vertical-align: top\">3</td>\n",
       "        <td style=\"padding-left: 1em; padding-right: 1em; text-align: center; vertical-align: top\">1.0</td>\n",
       "        <td style=\"padding-left: 1em; padding-right: 1em; text-align: center; vertical-align: top\">22500</td>\n",
       "        <td style=\"padding-left: 1em; padding-right: 1em; text-align: center; vertical-align: top\">1060</td>\n",
       "        <td style=\"padding-left: 1em; padding-right: 1em; text-align: center; vertical-align: top\">3500</td>\n",
       "    </tr>\n",
       "    <tr>\n",
       "        <td style=\"padding-left: 1em; padding-right: 1em; text-align: center; vertical-align: top\">870</td>\n",
       "        <td style=\"padding-left: 1em; padding-right: 1em; text-align: center; vertical-align: top\">2</td>\n",
       "        <td style=\"padding-left: 1em; padding-right: 1em; text-align: center; vertical-align: top\">2.0</td>\n",
       "        <td style=\"padding-left: 1em; padding-right: 1em; text-align: center; vertical-align: top\">90000</td>\n",
       "        <td style=\"padding-left: 1em; padding-right: 1em; text-align: center; vertical-align: top\">1300</td>\n",
       "        <td style=\"padding-left: 1em; padding-right: 1em; text-align: center; vertical-align: top\">17500</td>\n",
       "    </tr>\n",
       "    <tr>\n",
       "        <td style=\"padding-left: 1em; padding-right: 1em; text-align: center; vertical-align: top\">1320</td>\n",
       "        <td style=\"padding-left: 1em; padding-right: 1em; text-align: center; vertical-align: top\">3</td>\n",
       "        <td style=\"padding-left: 1em; padding-right: 1em; text-align: center; vertical-align: top\">2.0</td>\n",
       "        <td style=\"padding-left: 1em; padding-right: 1em; text-align: center; vertical-align: top\">133000</td>\n",
       "        <td style=\"padding-left: 1em; padding-right: 1em; text-align: center; vertical-align: top\">1500</td>\n",
       "        <td style=\"padding-left: 1em; padding-right: 1em; text-align: center; vertical-align: top\">30000</td>\n",
       "    </tr>\n",
       "    <tr>\n",
       "        <td style=\"padding-left: 1em; padding-right: 1em; text-align: center; vertical-align: top\">1350</td>\n",
       "        <td style=\"padding-left: 1em; padding-right: 1em; text-align: center; vertical-align: top\">2</td>\n",
       "        <td style=\"padding-left: 1em; padding-right: 1em; text-align: center; vertical-align: top\">1.0</td>\n",
       "        <td style=\"padding-left: 1em; padding-right: 1em; text-align: center; vertical-align: top\">90500</td>\n",
       "        <td style=\"padding-left: 1em; padding-right: 1em; text-align: center; vertical-align: top\">820</td>\n",
       "        <td style=\"padding-left: 1em; padding-right: 1em; text-align: center; vertical-align: top\">25700</td>\n",
       "    </tr>\n",
       "    <tr>\n",
       "        <td style=\"padding-left: 1em; padding-right: 1em; text-align: center; vertical-align: top\">2790</td>\n",
       "        <td style=\"padding-left: 1em; padding-right: 1em; text-align: center; vertical-align: top\">3</td>\n",
       "        <td style=\"padding-left: 1em; padding-right: 1em; text-align: center; vertical-align: top\">2.5</td>\n",
       "        <td style=\"padding-left: 1em; padding-right: 1em; text-align: center; vertical-align: top\">260000</td>\n",
       "        <td style=\"padding-left: 1em; padding-right: 1em; text-align: center; vertical-align: top\">2130</td>\n",
       "        <td style=\"padding-left: 1em; padding-right: 1em; text-align: center; vertical-align: top\">25000</td>\n",
       "    </tr>\n",
       "    <tr>\n",
       "        <td style=\"padding-left: 1em; padding-right: 1em; text-align: center; vertical-align: top\">680</td>\n",
       "        <td style=\"padding-left: 1em; padding-right: 1em; text-align: center; vertical-align: top\">2</td>\n",
       "        <td style=\"padding-left: 1em; padding-right: 1em; text-align: center; vertical-align: top\">1.0</td>\n",
       "        <td style=\"padding-left: 1em; padding-right: 1em; text-align: center; vertical-align: top\">142500</td>\n",
       "        <td style=\"padding-left: 1em; padding-right: 1em; text-align: center; vertical-align: top\">1170</td>\n",
       "        <td style=\"padding-left: 1em; padding-right: 1em; text-align: center; vertical-align: top\">22000</td>\n",
       "    </tr>\n",
       "    <tr>\n",
       "        <td style=\"padding-left: 1em; padding-right: 1em; text-align: center; vertical-align: top\">1840</td>\n",
       "        <td style=\"padding-left: 1em; padding-right: 1em; text-align: center; vertical-align: top\">3</td>\n",
       "        <td style=\"padding-left: 1em; padding-right: 1em; text-align: center; vertical-align: top\">2.0</td>\n",
       "        <td style=\"padding-left: 1em; padding-right: 1em; text-align: center; vertical-align: top\">160000</td>\n",
       "        <td style=\"padding-left: 1em; padding-right: 1em; text-align: center; vertical-align: top\">1500</td>\n",
       "        <td style=\"padding-left: 1em; padding-right: 1em; text-align: center; vertical-align: top\">19000</td>\n",
       "    </tr>\n",
       "    <tr>\n",
       "        <td style=\"padding-left: 1em; padding-right: 1em; text-align: center; vertical-align: top\">3680</td>\n",
       "        <td style=\"padding-left: 1em; padding-right: 1em; text-align: center; vertical-align: top\">4</td>\n",
       "        <td style=\"padding-left: 1em; padding-right: 1em; text-align: center; vertical-align: top\">2.0</td>\n",
       "        <td style=\"padding-left: 1em; padding-right: 1em; text-align: center; vertical-align: top\">240000</td>\n",
       "        <td style=\"padding-left: 1em; padding-right: 1em; text-align: center; vertical-align: top\">2790</td>\n",
       "        <td style=\"padding-left: 1em; padding-right: 1em; text-align: center; vertical-align: top\">20000</td>\n",
       "    </tr>\n",
       "</table>\n",
       "[15 rows x 6 columns]<br/>Note: Only the head of the SFrame is printed.<br/>You can use print_rows(num_rows=m, num_columns=n) to print more rows and columns.\n",
       "</div>"
      ],
      "text/plain": [
       "Columns:\n",
       "\ttax\tint\n",
       "\tbedroom\tint\n",
       "\tbath\tfloat\n",
       "\tprice\tint\n",
       "\tsize\tint\n",
       "\tlot\tint\n",
       "\n",
       "Rows: 15\n",
       "\n",
       "Data:\n",
       "+------+---------+------+--------+------+-------+\n",
       "| tax  | bedroom | bath | price  | size |  lot  |\n",
       "+------+---------+------+--------+------+-------+\n",
       "| 590  |    2    | 1.0  | 50000  | 770  | 22100 |\n",
       "| 1050 |    3    | 2.0  | 85000  | 1410 | 12000 |\n",
       "|  20  |    3    | 1.0  | 22500  | 1060 |  3500 |\n",
       "| 870  |    2    | 2.0  | 90000  | 1300 | 17500 |\n",
       "| 1320 |    3    | 2.0  | 133000 | 1500 | 30000 |\n",
       "| 1350 |    2    | 1.0  | 90500  | 820  | 25700 |\n",
       "| 2790 |    3    | 2.5  | 260000 | 2130 | 25000 |\n",
       "| 680  |    2    | 1.0  | 142500 | 1170 | 22000 |\n",
       "| 1840 |    3    | 2.0  | 160000 | 1500 | 19000 |\n",
       "| 3680 |    4    | 2.0  | 240000 | 2790 | 20000 |\n",
       "+------+---------+------+--------+------+-------+\n",
       "[15 rows x 6 columns]\n",
       "Note: Only the head of the SFrame is printed.\n",
       "You can use print_rows(num_rows=m, num_columns=n) to print more rows and columns."
      ]
     },
     "execution_count": 3,
     "metadata": {},
     "output_type": "execute_result"
    }
   ],
   "source": [
    "data"
   ]
  },
  {
   "cell_type": "code",
   "execution_count": 4,
   "metadata": {
    "collapsed": false
   },
   "outputs": [
    {
     "name": "stdout",
     "output_type": "stream",
     "text": [
      "Canvas is accessible via web browser at the URL: http://localhost:54360/index.html\n",
      "Opening Canvas in default web browser.\n"
     ]
    }
   ],
   "source": [
    "data.show()\n"
   ]
  },
  {
   "cell_type": "code",
   "execution_count": 6,
   "metadata": {
    "collapsed": false
   },
   "outputs": [
    {
     "name": "stdout",
     "output_type": "stream",
     "text": [
      "PROGRESS: Boosted trees regression:\n",
      "PROGRESS: --------------------------------------------------------\n",
      "PROGRESS: Number of examples          : 15\n",
      "PROGRESS: Number of features          : 3\n",
      "PROGRESS: Number of unpacked features : 3\n",
      "PROGRESS: +-----------+--------------+--------------------+---------------+\n",
      "PROGRESS: | Iteration | Elapsed Time | Training-max_error | Training-rmse |\n",
      "PROGRESS: +-----------+--------------+--------------------+---------------+\n",
      "PROGRESS: | 1         | 1.011785     | 213671             | 105235        |\n",
      "PROGRESS: | 2         | 1.014218     | 183885             | 82256.9       |\n",
      "PROGRESS: | 3         | 1.015642     | 149108             | 65396.8       |\n",
      "PROGRESS: | 4         | 1.017206     | 121286             | 52618.6       |\n",
      "PROGRESS: | 5         | 1.019000     | 99028.9            | 42504.3       |\n",
      "PROGRESS: | 6         | 1.021396     | 81223.1            | 34111.5       |\n",
      "PROGRESS: | 7         | 1.023264     | 66978.5            | 27535.2       |\n",
      "PROGRESS: | 8         | 1.024998     | 55582.8            | 22414.7       |\n",
      "PROGRESS: | 9         | 1.026662     | 46466.2            | 18569         |\n",
      "PROGRESS: | 10        | 1.028397     | 39173              | 15539.7       |\n",
      "PROGRESS: +-----------+--------------+--------------------+---------------+\n"
     ]
    }
   ],
   "source": [
    "model = gl.regression.create(data,target = 'price',features=['bath','bedroom','size'])"
   ]
  },
  {
   "cell_type": "code",
   "execution_count": 7,
   "metadata": {
    "collapsed": true
   },
   "outputs": [],
   "source": [
    "predictions = model.predict(data)"
   ]
  },
  {
   "cell_type": "code",
   "execution_count": 8,
   "metadata": {
    "collapsed": false
   },
   "outputs": [
    {
     "data": {
      "text/plain": [
       "dtype: float\n",
       "Rows: 15\n",
       "[47354.8125, 86948.8671875, 31288.62890625, 90732.09375, 135966.53125, 84134.9453125, 220827.015625, 115396.3359375, 135966.53125, 220827.015625, 78838.734375, 110927.578125, 135966.53125, 137100.09375, 68074.03125]"
      ]
     },
     "execution_count": 8,
     "metadata": {},
     "output_type": "execute_result"
    }
   ],
   "source": [
    "predictions"
   ]
  },
  {
   "cell_type": "code",
   "execution_count": 9,
   "metadata": {
    "collapsed": true
   },
   "outputs": [],
   "source": [
    "results = model.evaluate(data)"
   ]
  },
  {
   "cell_type": "code",
   "execution_count": 10,
   "metadata": {
    "collapsed": false
   },
   "outputs": [
    {
     "data": {
      "text/plain": [
       "{'max_error': 39172.984375, 'rmse': 15539.683303073181}"
      ]
     },
     "execution_count": 10,
     "metadata": {},
     "output_type": "execute_result"
    }
   ],
   "source": [
    "results"
   ]
  },
  {
   "cell_type": "code",
   "execution_count": 12,
   "metadata": {
    "collapsed": false
   },
   "outputs": [],
   "source": [
    "house_data = gl.SFrame('home_data.gl/')"
   ]
  },
  {
   "cell_type": "code",
   "execution_count": 13,
   "metadata": {
    "collapsed": false
   },
   "outputs": [
    {
     "name": "stdout",
     "output_type": "stream",
     "text": [
      "Canvas is accessible via web browser at the URL: http://localhost:54360/index.html\n",
      "Opening Canvas in default web browser.\n"
     ]
    }
   ],
   "source": [
    "house_data.show()"
   ]
  },
  {
   "cell_type": "code",
   "execution_count": 14,
   "metadata": {
    "collapsed": true
   },
   "outputs": [],
   "source": [
    "gl.canvas.set_target('ipynb')"
   ]
  },
  {
   "cell_type": "code",
   "execution_count": 17,
   "metadata": {
    "collapsed": false
   },
   "outputs": [
    {
     "data": {
      "application/javascript": [
       "$(\"head\").append($(\"<link/>\").attr({\n",
       "  rel:  \"stylesheet\",\n",
       "  type: \"text/css\",\n",
       "  href: \"//cdnjs.cloudflare.com/ajax/libs/font-awesome/4.1.0/css/font-awesome.min.css\"\n",
       "}));\n",
       "$(\"head\").append($(\"<link/>\").attr({\n",
       "  rel:  \"stylesheet\",\n",
       "  type: \"text/css\",\n",
       "  href: \"//dato.com/files/canvas/1.8/css/canvas.css\"\n",
       "}));\n",
       "\n",
       "            (function(){\n",
       "\n",
       "                var e = null;\n",
       "                if (typeof element == 'undefined') {\n",
       "                    var scripts = document.getElementsByTagName('script');\n",
       "                    var thisScriptTag = scripts[scripts.length-1];\n",
       "                    var parentDiv = thisScriptTag.parentNode;\n",
       "                    e = document.createElement('div');\n",
       "                    parentDiv.appendChild(e);\n",
       "                } else {\n",
       "                    e = element[0];\n",
       "                }\n",
       "\n",
       "                if (typeof requirejs !== 'undefined') {\n",
       "                    // disable load timeout; ipython_app.js is large and can take a while to load.\n",
       "                    requirejs.config({waitSeconds: 0});\n",
       "                }\n",
       "\n",
       "                require(['//dato.com/files/canvas/1.8/js/ipython_app.js'], function(IPythonApp){\n",
       "                    var app = new IPythonApp();\n",
       "                    app.attachView('sframe','Plots', {\"selected_variable\": {\"name\": [\"house_data\"], \"descriptives\": {\"rows\": 21613, \"columns\": 21}, \"view_component\": \"Plots\", \"view_file\": \"sframe\", \"view_params\": {\"y\": \"price\", \"x\": \"sqft_living\", \"columns\": [\"id\", \"date\", \"price\", \"bedrooms\", \"bathrooms\", \"sqft_living\", \"sqft_lot\", \"floors\", \"waterfront\", \"view\", \"condition\", \"grade\", \"sqft_above\", \"sqft_basement\", \"yr_built\", \"yr_renovated\", \"zipcode\", \"lat\", \"long\", \"sqft_living15\", \"sqft_lot15\"], \"view\": \"Scatter Plot\"}, \"view_components\": [\"Summary\", \"Table\", \"Bar Chart\", \"BoxWhisker Plot\", \"Line Chart\", \"Scatter Plot\", \"Heat Map\", \"Plots\"], \"type\": \"SFrame\", \"columns\": [{\"dtype\": \"str\", \"name\": \"id\"}, {\"dtype\": \"datetime\", \"name\": \"date\"}, {\"dtype\": \"int\", \"name\": \"price\"}, {\"dtype\": \"str\", \"name\": \"bedrooms\"}, {\"dtype\": \"str\", \"name\": \"bathrooms\"}, {\"dtype\": \"int\", \"name\": \"sqft_living\"}, {\"dtype\": \"int\", \"name\": \"sqft_lot\"}, {\"dtype\": \"str\", \"name\": \"floors\"}, {\"dtype\": \"int\", \"name\": \"waterfront\"}, {\"dtype\": \"int\", \"name\": \"view\"}, {\"dtype\": \"int\", \"name\": \"condition\"}, {\"dtype\": \"int\", \"name\": \"grade\"}, {\"dtype\": \"int\", \"name\": \"sqft_above\"}, {\"dtype\": \"int\", \"name\": \"sqft_basement\"}, {\"dtype\": \"int\", \"name\": \"yr_built\"}, {\"dtype\": \"int\", \"name\": \"yr_renovated\"}, {\"dtype\": \"str\", \"name\": \"zipcode\"}, {\"dtype\": \"float\", \"name\": \"lat\"}, {\"dtype\": \"float\", \"name\": \"long\"}, {\"dtype\": \"float\", \"name\": \"sqft_living15\"}, {\"dtype\": \"float\", \"name\": \"sqft_lot15\"}], \"column_identifiers\": [\"bathrooms\", \"sqft_living15\", \"sqft_above\", \"grade\", \"yr_built\", \"price\", \"bedrooms\", \"zipcode\", \"long\", \"id\", \"sqft_lot15\", \"sqft_living\", \"floors\", \"sqft_lot\", \"date\", \"waterfront\", \"sqft_basement\", \"yr_renovated\", \"lat\", \"condition\", \"view\"]}, \"complete\": 1, \"ipython\": true, \"progress\": 1.0, \"data\": [[2370, 490000], [860, 370000], [1960, 355000], [1340, 303000], [1550, 570000], [1160, 324000], [2370, 735000], [2890, 416000], [840, 450600], [700, 247500], [3560, 662500], [2620, 300000], [1780, 631500], [1710, 319950], [3130, 1389000], [2770, 700000], [1110, 345000], [2600, 665000], [1930, 586000], [1780, 265000], [2130, 725000], [2670, 515000], [910, 169900], [3200, 337000], [1811, 260000], [2170, 831000], [1620, 640000], [1990, 582500], [2410, 287000], [2320, 485500], [910, 280000], [1820, 532000], [4140, 720000], [1020, 350000], [1270, 435000], [2240, 238000], [860, 399000], [1490, 263000], [2220, 532500], [1500, 352500], [1830, 270000], [4220, 775000], [1790, 280000], [1580, 265000], [3630, 964000], [3160, 488000], [2040, 575000], [2600, 600000], [1660, 620000], [1210, 335000], [2840, 663000], [2790, 665000], [2340, 505000], [1640, 500000], [3350, 550000], [3400, 530000], [1460, 225000], [2470, 503000], [1460, 470000], [3130, 840000], [1600, 408000], [2720, 1020000], [2800, 863000], [760, 122000], [3176, 819000], [1620, 484000], [1320, 459000], [2500, 315000], [1530, 245000], [1560, 449000], [1220, 385000], [2341, 640000], [2370, 1000000], [2380, 360000], [2610, 780000], [1500, 578000], [1760, 380000], [1800, 325000], [1410, 442000], [2710, 450000], [1270, 570000], [1640, 700000], [1160, 237000], [1650, 238000], [4430, 2750000], [920, 206000], [1240, 248500], [1770, 450000], [1180, 205000], [1020, 187000], [1020, 255000], [1390, 396000], [1410, 271920], [3130, 525000], [2090, 424950], [2240, 649000], [2110, 280000], [1880, 585000], [3650, 1310000], [7850, 2700000], [1660, 655000], [1120, 464600], [2300, 1000000], [2577, 495000], [2790, 533380], [2410, 758000], [1290, 402500], [1800, 272000], [1420, 349950], [3860, 670000], [1370, 524000], [2160, 402500], [1170, 312500], [2080, 329950], [1470, 385000], [3160, 942000], [2590, 346300], [1200, 219000], [1990, 359000], [3840, 575000], [2120, 453000], [2950, 615000], [1920, 480000], [1420, 269900], [1160, 700000], [720, 217000], [920, 535000], [2700, 625000], [1220, 260000], [1910, 390000], [1400, 242025], [2850, 670000], [3260, 820000], [3530, 583500], [3890, 1080000], [4340, 2945000], [2020, 220000], [5584, 1680000], [1670, 615000], [1520, 385000], [2181, 340000], [1490, 898000], [1970, 425500], [1690, 482500], [2710, 600000], [1730, 430000], [1800, 505000], [1230, 439950], [1730, 335000], [870, 276000], [3180, 708000], [3960, 1195000], [1750, 410000], [1610, 246700], [1540, 433500], [2650, 549950], [1200, 186000], [2040, 749000], [1850, 352000], [840, 135000], [3010, 600000], [1264, 530000], [1580, 259000], [2860, 1010000], [1200, 309950], [2180, 405000], [710, 289000], [940, 180000], [1840, 538000], [1170, 185000], [1680, 334000], [3570, 910000], [1730, 396675], [1880, 355000], [1520, 307300], [1220, 418000], [1700, 600000], [2200, 559900], [1710, 565000], [3100, 511000], [3070, 860000], [1500, 230000], [3360, 738515], [1340, 530000], [1730, 500000], [2160, 756000], [1410, 239900], [1950, 750000], [1910, 630100], [1020, 385000], [1810, 585000], [1390, 275000], [2240, 556000], [3290, 762500], [1380, 209950], [2500, 700000], [700, 248000], [1490, 615000], [1300, 315500], [3450, 2225000], [1060, 352750], [1970, 475000], [1320, 464000], [2120, 330000], [1300, 365000], [1630, 360000], [1500, 270000], [1680, 500000], [1250, 163000], [3240, 812000], [1930, 700000], [1000, 317500], [1960, 723000], [1940, 685000], [2880, 635000], [2110, 525000], [7400, 2983000], [2370, 675000], [3900, 1072000], [1260, 290000], [2760, 686000], [3600, 923990], [2940, 640000], [2840, 292050], [1080, 329500], [2800, 439000], [2780, 870000], [3180, 1227500], [1880, 405000], [1630, 385000], [2900, 500000], [1230, 329000], [2910, 515000], [1610, 630000], [1600, 672324], [1300, 337500], [2410, 480000], [1100, 423000], [1380, 189000], [1140, 276000], [3870, 1275000], [3010, 1240000], [5160, 1900000], [2300, 299000], [2716, 452000], [2560, 642000], [1340, 287000], [1360, 263400], [720, 199000], [3200, 712000], [2230, 652450], [2920, 713500], [1130, 204950], [1150, 390000], [740, 255000], [1580, 500000], [3100, 795000], [860, 399900], [2360, 805000], [1810, 279000], [1680, 629950], [2560, 399500], [1150, 338500], [3280, 785500], [1860, 429000], [4180, 1020000], [2470, 470000], [1260, 452000], [1780, 615000], [1510, 479200], [2240, 279900], [1400, 395000], [1540, 450000], [1220, 250000], [880, 415000], [2170, 709000], [2420, 1010000], [2100, 335000], [1430, 453000], [1180, 447500], [2730, 649000], [1110, 499000], [3790, 1165000], [3640, 1651000], [3920, 965000], [1560, 724000], [2500, 467000], [2120, 368000], [2650, 329000], [2070, 343000], [2220, 490000], [1710, 416000], [920, 363000], [1090, 577000], [2190, 769950], [2240, 390000], [2530, 350000], [2650, 446500], [2610, 390000], [1280, 240000], [2220, 370000], [2440, 335000], [2090, 513000], [2790, 982000], [2200, 315000], [2810, 368500], [1970, 285000], [1330, 515000], [2400, 338000], [3040, 799950], [2890, 550000], [1870, 313999], [4030, 989000], [2650, 499000], [1250, 259875], [2400, 380000], [2360, 459000], [2375, 712000], [1580, 325000], [2510, 660000], [2180, 330000], [2030, 520000], [2790, 751000], [1845, 510000], [2170, 445000], [1894, 280000], [3300, 920000], [3340, 699000], [2670, 732000], [2660, 310000], [1870, 458000], [1050, 333000], [1240, 400000], [1070, 640000], [2220, 397500], [910, 245000], [2930, 559900], [1320, 240000], [1400, 225000], [3340, 870000], [1400, 386500], [1550, 650000], [2500, 425000], [2140, 550000], [1810, 550000], [2410, 560000], [1150, 485000], [1040, 341000], [1390, 206600], [1350, 355000], [940, 370000], [2120, 690000], [1980, 455000], [2190, 602500], [2150, 320000], [2590, 1500000], [1020, 152275], [1430, 425000], [3160, 1280000], [880, 330000], [1400, 295000], [840, 232000], [2080, 420000], [1440, 275000], [2330, 689000], [1010, 459000], [2190, 988000], [3520, 810000], [2100, 330000], [1740, 550000], [2050, 299000], [6840, 3278000], [3030, 1050000], [990, 222500], [920, 208000], [1960, 599000], [910, 370000], [2005, 491000], [1480, 525000], [2170, 765000], [2860, 740000], [2990, 1061604], [3010, 499000], [2120, 720000], [3320, 800000], [1080, 392800], [3596, 580000], [2000, 320000], [2180, 580000], [3220, 534950], [2020, 245000], [2340, 360000], [670, 340000], [1190, 322500], [2570, 625000], [3080, 432500], [1840, 325000], [930, 392500], [1790, 299950], [2410, 550000], [3490, 952000], [1750, 475000], [2410, 379000], [1950, 622000], [2070, 600000], [1740, 800000], [2070, 235000], [1350, 450000], [1300, 324500], [1160, 210000], [1390, 450000], [2780, 290000], [1420, 294000], [1380, 345000], [1530, 380000], [1680, 272000], [2590, 781000], [2420, 1100000], [2470, 732500], [6070, 1550000], [1780, 615000], [3150, 935000], [3360, 850000], [2280, 380000], [1460, 337000], [1480, 360000], [1590, 411000], [1480, 341000], [2020, 599000], [1440, 472500], [1450, 375000], [2060, 580000], [2670, 669950], [1480, 315000], [1500, 245000], [2238, 330000], [3020, 790000], [2270, 732350], [2160, 324888], [1590, 330000], [1600, 390000], [1628, 250000], [2050, 540000], [1340, 415000], [2850, 550000], [2620, 650000], [2520, 657500], [1280, 296500], [3190, 780000], [4370, 1025000], [1780, 495000], [2850, 875000], [1770, 638500], [1300, 502000], [1870, 811000], [2830, 551000], [1650, 241000], [2100, 342500], [1300, 257500], [3180, 1000000], [2880, 536000], [3320, 400000], [1230, 195000], [730, 140000], [3180, 859950], [1690, 245000], [1710, 304000], [2320, 450000], [2270, 340500], [3060, 446500], [3420, 975000], [3840, 868700], [3490, 1295000], [1677, 281000], [2760, 830000], [2100, 650000], [1790, 450000], [1050, 438924], [2140, 329950], [2620, 394250], [1780, 315000], [1180, 425000], [2090, 315000], [1130, 207000], [2300, 400000], [960, 545000], [1410, 375000], [1870, 575000], [1580, 275000], [2520, 610000], [1010, 658000], [2150, 575000], [2710, 359000], [1310, 181000], [1570, 367500], [2960, 740000], [3130, 598000], [1270, 259000], [2030, 550000], [3070, 1495000], [1610, 292000], [1060, 335000], [2220, 320000], [3052, 425000], [1360, 550000], [1500, 529000], [3030, 455000], [1380, 553000], [1890, 825000], [2990, 1055000], [2430, 585000], [1160, 315500], [2430, 570000], [2210, 305000], [3150, 815000], [2900, 630000], [4080, 900000], [2400, 750000], [1420, 490000], [1680, 629950], [1640, 250000], [2770, 675000], [1400, 340000], [2220, 652500], [1480, 450000], [1160, 137900], [1920, 542500], [2850, 300000], [2180, 825000], [1480, 466800], [1240, 235000], [1460, 390500], [2990, 645500], [1010, 160000], [2100, 303000], [2927, 407000], [580, 315000], [2940, 752000], [3390, 775000], [1950, 425000], [1670, 612125], [2350, 1620000], [1140, 390000], [2410, 550000], [2390, 282000], [3316, 490600], [1320, 412000], [2340, 220000], [1740, 342000], [1820, 264000], [2260, 339950], [2940, 1010000], [2800, 1028000], [2460, 790000], [1060, 344000], [1290, 275000], [3210, 750000], [1730, 450000], [1660, 452000], [1900, 212000], [2560, 499000], [860, 320000], [1600, 265000], [1630, 729999], [2840, 345000], [840, 325000], [1650, 447000], [2520, 470000], [2015, 988500], [2290, 599950], [2380, 855000], [1500, 419000], [2890, 740000], [2150, 275000], [3200, 499950], [730, 465000], [1130, 315450], [1480, 547000], [1680, 670000], [1550, 645000], [1150, 475000], [1556, 221700], [1340, 275000], [1360, 223000], [1520, 425500], [1210, 324950], [2434, 285000], [2870, 1555000], [2280, 530000], [2060, 685000], [1810, 513000], [1820, 265000], [1750, 341000], [990, 430000], [2820, 650000], [1450, 340000], [2860, 540000], [950, 450000], [1340, 252000], [1840, 435000], [2830, 515500], [4010, 972000], [1100, 277000], [1680, 525000], [3430, 780000], [1720, 589000], [1620, 290000], [2190, 418500], [2920, 1540000], [3510, 948000], [2330, 390000], [1510, 310000], [3020, 1272000], [1670, 661000], [2400, 500012], [1970, 465000], [3370, 713900], [970, 515000], [1200, 369500], [2750, 819000], [2780, 834500], [2660, 549995], [4460, 1150000], [3540, 888550], [2140, 400000], [1650, 429500], [1580, 379000], [1300, 170000], [1270, 543500], [1770, 355000], [2610, 665000], [2190, 419000], [2440, 518000], [2330, 473975], [1290, 205000], [1630, 740000], [1280, 370000], [1810, 252500], [2360, 390000], [870, 475000], [810, 238950], [3240, 749400], [3340, 720000], [1060, 215000], [2050, 584999], [2020, 385000], [1730, 357500], [1520, 265000], [1540, 519500], [1120, 540000], [1420, 455000], [2160, 650000], [1090, 344950], [1880, 565000], [1400, 470000], [2160, 345500], [4980, 1210000], [1200, 329000], [1860, 528000], [1290, 275000], [2060, 585000], [2110, 796000], [1510, 313950], [950, 435000], [1960, 435000], [2229, 324950], [1610, 545000], [3860, 880000], [900, 329950], [1570, 835000], [1540, 542000], [2500, 705000], [1830, 375000], [1430, 720001], [3202, 460940], [3430, 813000], [3010, 789500], [2070, 255000], [1250, 165000], [2930, 750000], [1239, 253101], [1990, 542000], [3190, 609900], [3900, 415000], [3980, 925900], [840, 360000], [1060, 346000], [2080, 231500], [4100, 2027000], [3350, 1110000], [870, 245000], [910, 128000], [2683, 822000], [2432, 427000], [2584, 429900], [2050, 1025000], [1420, 250000], [1170, 387000], [1710, 463000], [1300, 417000], [1390, 686500], [950, 137000], [2260, 759000], [3790, 1865000], [2410, 745000], [2710, 482000], [2490, 504750], [1790, 525000], [1200, 280000], [2920, 1650000], [2730, 510000], [2190, 334950], [1070, 245000], [1890, 330000], [1010, 450000], [2380, 545000], [1010, 405500], [1810, 400000], [1830, 400000], [1790, 865000], [2440, 548000], [3040, 647000], [850, 354000], [1230, 554663], [720, 190000], [1770, 538000], [2520, 670000], [1800, 420000], [1690, 499000], [2610, 510000], [2380, 342000], [1780, 316000], [1380, 240000], [2750, 763776], [880, 415000], [1770, 596500], [2100, 625000], [1610, 648000], [4100, 950000], [1940, 311500], [1130, 280005], [4490, 1680000], [1480, 307150], [1980, 475000], [2020, 410000], [2330, 453000], [2080, 280000], [2600, 641000], [1270, 512000], [1650, 580000], [1140, 550000], [3280, 963000], [1560, 491500], [2730, 733000], [2360, 631750], [1920, 340000], [2910, 585000], [1520, 330000], [3110, 875000], [830, 345000], [1600, 355000], [1580, 525000], [1450, 525000], [2230, 537000], [4390, 1050000], [1510, 195000], [2040, 475000], [1750, 385000], [1480, 200000], [1890, 726000], [2640, 429900], [1690, 371000], [2000, 526000], [2870, 810000], [1220, 317500], [3110, 655000], [1610, 575000], [2480, 717000], [1800, 495000], [290, 142000], [2185, 374000], [3270, 797500], [1330, 386000], [1890, 388500], [1750, 524950], [1480, 276200], [2620, 680000], [1600, 265000], [1090, 392000], [710, 375000], [1230, 424000], [2150, 458000], [3550, 1355000], [850, 360000], [2930, 442515], [2860, 874000], [1570, 273950], [1940, 423000], [2052, 349900], [4640, 1348000], [710, 403950], [3190, 1216000], [1980, 332000], [2890, 978000], [2480, 979700], [1720, 340000], [1150, 420000], [1450, 265500], [2600, 581000], [3600, 1925000], [1520, 380000], [2700, 710000], [1560, 524000], [2500, 799000], [4890, 2400000], [1752, 249000], [1260, 194000], [1140, 379900], [4260, 1065000], [1320, 300000], [3920, 850000], [1330, 257000], [1360, 540000], [1890, 339950], [1810, 431000], [1570, 239900], [1010, 194000], [1770, 420000], [1500, 308625], [1540, 550000], [1910, 595000], [1340, 240000], [1170, 207500], [2320, 299000], [2580, 775000], [1250, 462000], [3430, 1010000], [1440, 490000], [1500, 277000], [3390, 1054690], [2760, 834538], [2230, 482000], [1530, 700180], [2020, 379000], [1510, 254000], [2050, 761000], [3020, 879950], [2640, 518000], [1080, 230000], [2070, 254000], [2030, 359500], [2280, 322000], [1290, 300000], [4790, 818500], [2160, 430000], [1540, 425000], [3530, 1095000], [3070, 1000750], [2360, 1087500], [2350, 643403], [750, 435000], [540, 345000], [1270, 367500], [1320, 299950], [2260, 640000], [3540, 925000], [630, 430000], [2090, 455000], [2300, 505000], [2130, 380000], [2630, 430000], [2220, 325000], [1790, 294000], [6240, 2950000], [3060, 860000], [3390, 915000], [1630, 290000], [1233, 360000], [2250, 1050000], [1310, 241500], [1890, 315000], [2570, 621500], [1300, 205000], [2880, 885000], [2000, 625000], [2880, 780000], [1240, 540000], [3050, 465000], [1310, 196500], [2270, 585000], [3060, 775000], [1800, 410000], [960, 525000], [1090, 690000], [1990, 470000], [1400, 267000], [1440, 255000], [1540, 312000], [2240, 580379], [2000, 440000], [2140, 340000], [4370, 2350000], [2090, 400000], [2250, 375000], [2960, 849000], [4220, 633000], [3170, 600000], [950, 445000], [1310, 437000], [2650, 734990], [1260, 204555], [1090, 285000], [820, 508000], [2010, 660000], [1460, 505000], [1280, 525000], [1570, 570000], [2830, 614000], [790, 280000], [3450, 840000], [2200, 279000], [3100, 1289000], [1750, 750000], [2310, 527500], [3390, 350000], [910, 193000], [3260, 552500], [1320, 294000], [1070, 543000], [2570, 390000], [830, 282613], [2910, 585083], [2280, 410000], [1940, 732000], [1280, 670000], [2010, 510000], [1210, 453000], [2320, 305000], [3850, 915000], [2550, 315000], [1900, 855000], [1230, 139500], [1230, 200000], [2400, 450000], [1510, 622500], [1330, 245000], [2460, 405000], [2140, 780000], [1180, 244000], [1660, 279950], [1880, 595000], [1300, 501000], [2870, 802000], [2070, 289950], [1400, 240000], [2670, 550000], [1640, 375000], [3050, 555000], [1480, 398000], [1180, 447500], [3720, 1275000], [1070, 299000], [3020, 354000], [1510, 415000], [1730, 423000], [930, 160000], [2420, 441500], [1450, 550000], [1980, 415000], [1710, 450000], [1680, 396000], [1700, 403000], [1990, 537000], [1600, 345000], [2300, 308130], [2510, 881000], [1830, 300000], [880, 210000], [2320, 470000], [1830, 470000], [1830, 494000], [1660, 535000], [1340, 407000], [4410, 1500000], [2260, 777700], [2320, 728050], [2660, 605000], [1800, 399000], [1630, 412500], [2020, 560000], [3160, 840000], [1290, 205000], [1930, 490000], [1340, 485500], [1600, 995000], [1850, 540000], [1770, 295000], [1440, 450000], [1360, 253200], [2310, 765000]], \"columns\": [{\"dtype\": \"str\", \"name\": \"id\"}, {\"dtype\": \"datetime\", \"name\": \"date\"}, {\"dtype\": \"int\", \"name\": \"price\"}, {\"dtype\": \"str\", \"name\": \"bedrooms\"}, {\"dtype\": \"str\", \"name\": \"bathrooms\"}, {\"dtype\": \"int\", \"name\": \"sqft_living\"}, {\"dtype\": \"int\", \"name\": \"sqft_lot\"}, {\"dtype\": \"str\", \"name\": \"floors\"}, {\"dtype\": \"int\", \"name\": \"waterfront\"}, {\"dtype\": \"int\", \"name\": \"view\"}, {\"dtype\": \"int\", \"name\": \"condition\"}, {\"dtype\": \"int\", \"name\": \"grade\"}, {\"dtype\": \"int\", \"name\": \"sqft_above\"}, {\"dtype\": \"int\", \"name\": \"sqft_basement\"}, {\"dtype\": \"int\", \"name\": \"yr_built\"}, {\"dtype\": \"int\", \"name\": \"yr_renovated\"}, {\"dtype\": \"str\", \"name\": \"zipcode\"}, {\"dtype\": \"float\", \"name\": \"lat\"}, {\"dtype\": \"float\", \"name\": \"long\"}, {\"dtype\": \"float\", \"name\": \"sqft_living15\"}, {\"dtype\": \"float\", \"name\": \"sqft_lot15\"}]}, e);\n",
       "                });\n",
       "            })();\n",
       "        "
      ]
     },
     "metadata": {},
     "output_type": "display_data"
    }
   ],
   "source": [
    "house_data.show(view=\"Scatter Plot\", x=\"sqft_living\",y=\"price\")"
   ]
  },
  {
   "cell_type": "code",
   "execution_count": 18,
   "metadata": {
    "collapsed": false
   },
   "outputs": [],
   "source": [
    "train_house,test_house = house_data.random_split(.8,seed=0)"
   ]
  },
  {
   "cell_type": "code",
   "execution_count": 19,
   "metadata": {
    "collapsed": false
   },
   "outputs": [
    {
     "data": {
      "text/html": [
       "<div style=\"max-height:1000px;max-width:1500px;overflow:auto;\"><table frame=\"box\" rules=\"cols\">\n",
       "    <tr>\n",
       "        <th style=\"padding-left: 1em; padding-right: 1em; text-align: center\">id</th>\n",
       "        <th style=\"padding-left: 1em; padding-right: 1em; text-align: center\">date</th>\n",
       "        <th style=\"padding-left: 1em; padding-right: 1em; text-align: center\">price</th>\n",
       "        <th style=\"padding-left: 1em; padding-right: 1em; text-align: center\">bedrooms</th>\n",
       "        <th style=\"padding-left: 1em; padding-right: 1em; text-align: center\">bathrooms</th>\n",
       "        <th style=\"padding-left: 1em; padding-right: 1em; text-align: center\">sqft_living</th>\n",
       "        <th style=\"padding-left: 1em; padding-right: 1em; text-align: center\">sqft_lot</th>\n",
       "        <th style=\"padding-left: 1em; padding-right: 1em; text-align: center\">floors</th>\n",
       "        <th style=\"padding-left: 1em; padding-right: 1em; text-align: center\">waterfront</th>\n",
       "    </tr>\n",
       "    <tr>\n",
       "        <td style=\"padding-left: 1em; padding-right: 1em; text-align: center; vertical-align: top\">7129300520</td>\n",
       "        <td style=\"padding-left: 1em; padding-right: 1em; text-align: center; vertical-align: top\">2014-10-13 00:00:00+00:00</td>\n",
       "        <td style=\"padding-left: 1em; padding-right: 1em; text-align: center; vertical-align: top\">221900</td>\n",
       "        <td style=\"padding-left: 1em; padding-right: 1em; text-align: center; vertical-align: top\">3</td>\n",
       "        <td style=\"padding-left: 1em; padding-right: 1em; text-align: center; vertical-align: top\">1</td>\n",
       "        <td style=\"padding-left: 1em; padding-right: 1em; text-align: center; vertical-align: top\">1180</td>\n",
       "        <td style=\"padding-left: 1em; padding-right: 1em; text-align: center; vertical-align: top\">5650</td>\n",
       "        <td style=\"padding-left: 1em; padding-right: 1em; text-align: center; vertical-align: top\">1</td>\n",
       "        <td style=\"padding-left: 1em; padding-right: 1em; text-align: center; vertical-align: top\">0</td>\n",
       "    </tr>\n",
       "    <tr>\n",
       "        <td style=\"padding-left: 1em; padding-right: 1em; text-align: center; vertical-align: top\">6414100192</td>\n",
       "        <td style=\"padding-left: 1em; padding-right: 1em; text-align: center; vertical-align: top\">2014-12-09 00:00:00+00:00</td>\n",
       "        <td style=\"padding-left: 1em; padding-right: 1em; text-align: center; vertical-align: top\">538000</td>\n",
       "        <td style=\"padding-left: 1em; padding-right: 1em; text-align: center; vertical-align: top\">3</td>\n",
       "        <td style=\"padding-left: 1em; padding-right: 1em; text-align: center; vertical-align: top\">2.25</td>\n",
       "        <td style=\"padding-left: 1em; padding-right: 1em; text-align: center; vertical-align: top\">2570</td>\n",
       "        <td style=\"padding-left: 1em; padding-right: 1em; text-align: center; vertical-align: top\">7242</td>\n",
       "        <td style=\"padding-left: 1em; padding-right: 1em; text-align: center; vertical-align: top\">2</td>\n",
       "        <td style=\"padding-left: 1em; padding-right: 1em; text-align: center; vertical-align: top\">0</td>\n",
       "    </tr>\n",
       "    <tr>\n",
       "        <td style=\"padding-left: 1em; padding-right: 1em; text-align: center; vertical-align: top\">5631500400</td>\n",
       "        <td style=\"padding-left: 1em; padding-right: 1em; text-align: center; vertical-align: top\">2015-02-25 00:00:00+00:00</td>\n",
       "        <td style=\"padding-left: 1em; padding-right: 1em; text-align: center; vertical-align: top\">180000</td>\n",
       "        <td style=\"padding-left: 1em; padding-right: 1em; text-align: center; vertical-align: top\">2</td>\n",
       "        <td style=\"padding-left: 1em; padding-right: 1em; text-align: center; vertical-align: top\">1</td>\n",
       "        <td style=\"padding-left: 1em; padding-right: 1em; text-align: center; vertical-align: top\">770</td>\n",
       "        <td style=\"padding-left: 1em; padding-right: 1em; text-align: center; vertical-align: top\">10000</td>\n",
       "        <td style=\"padding-left: 1em; padding-right: 1em; text-align: center; vertical-align: top\">1</td>\n",
       "        <td style=\"padding-left: 1em; padding-right: 1em; text-align: center; vertical-align: top\">0</td>\n",
       "    </tr>\n",
       "    <tr>\n",
       "        <td style=\"padding-left: 1em; padding-right: 1em; text-align: center; vertical-align: top\">2487200875</td>\n",
       "        <td style=\"padding-left: 1em; padding-right: 1em; text-align: center; vertical-align: top\">2014-12-09 00:00:00+00:00</td>\n",
       "        <td style=\"padding-left: 1em; padding-right: 1em; text-align: center; vertical-align: top\">604000</td>\n",
       "        <td style=\"padding-left: 1em; padding-right: 1em; text-align: center; vertical-align: top\">4</td>\n",
       "        <td style=\"padding-left: 1em; padding-right: 1em; text-align: center; vertical-align: top\">3</td>\n",
       "        <td style=\"padding-left: 1em; padding-right: 1em; text-align: center; vertical-align: top\">1960</td>\n",
       "        <td style=\"padding-left: 1em; padding-right: 1em; text-align: center; vertical-align: top\">5000</td>\n",
       "        <td style=\"padding-left: 1em; padding-right: 1em; text-align: center; vertical-align: top\">1</td>\n",
       "        <td style=\"padding-left: 1em; padding-right: 1em; text-align: center; vertical-align: top\">0</td>\n",
       "    </tr>\n",
       "    <tr>\n",
       "        <td style=\"padding-left: 1em; padding-right: 1em; text-align: center; vertical-align: top\">1954400510</td>\n",
       "        <td style=\"padding-left: 1em; padding-right: 1em; text-align: center; vertical-align: top\">2015-02-18 00:00:00+00:00</td>\n",
       "        <td style=\"padding-left: 1em; padding-right: 1em; text-align: center; vertical-align: top\">510000</td>\n",
       "        <td style=\"padding-left: 1em; padding-right: 1em; text-align: center; vertical-align: top\">3</td>\n",
       "        <td style=\"padding-left: 1em; padding-right: 1em; text-align: center; vertical-align: top\">2</td>\n",
       "        <td style=\"padding-left: 1em; padding-right: 1em; text-align: center; vertical-align: top\">1680</td>\n",
       "        <td style=\"padding-left: 1em; padding-right: 1em; text-align: center; vertical-align: top\">8080</td>\n",
       "        <td style=\"padding-left: 1em; padding-right: 1em; text-align: center; vertical-align: top\">1</td>\n",
       "        <td style=\"padding-left: 1em; padding-right: 1em; text-align: center; vertical-align: top\">0</td>\n",
       "    </tr>\n",
       "    <tr>\n",
       "        <td style=\"padding-left: 1em; padding-right: 1em; text-align: center; vertical-align: top\">7237550310</td>\n",
       "        <td style=\"padding-left: 1em; padding-right: 1em; text-align: center; vertical-align: top\">2014-05-12 00:00:00+00:00</td>\n",
       "        <td style=\"padding-left: 1em; padding-right: 1em; text-align: center; vertical-align: top\">1225000</td>\n",
       "        <td style=\"padding-left: 1em; padding-right: 1em; text-align: center; vertical-align: top\">4</td>\n",
       "        <td style=\"padding-left: 1em; padding-right: 1em; text-align: center; vertical-align: top\">4.5</td>\n",
       "        <td style=\"padding-left: 1em; padding-right: 1em; text-align: center; vertical-align: top\">5420</td>\n",
       "        <td style=\"padding-left: 1em; padding-right: 1em; text-align: center; vertical-align: top\">101930</td>\n",
       "        <td style=\"padding-left: 1em; padding-right: 1em; text-align: center; vertical-align: top\">1</td>\n",
       "        <td style=\"padding-left: 1em; padding-right: 1em; text-align: center; vertical-align: top\">0</td>\n",
       "    </tr>\n",
       "    <tr>\n",
       "        <td style=\"padding-left: 1em; padding-right: 1em; text-align: center; vertical-align: top\">1321400060</td>\n",
       "        <td style=\"padding-left: 1em; padding-right: 1em; text-align: center; vertical-align: top\">2014-06-27 00:00:00+00:00</td>\n",
       "        <td style=\"padding-left: 1em; padding-right: 1em; text-align: center; vertical-align: top\">257500</td>\n",
       "        <td style=\"padding-left: 1em; padding-right: 1em; text-align: center; vertical-align: top\">3</td>\n",
       "        <td style=\"padding-left: 1em; padding-right: 1em; text-align: center; vertical-align: top\">2.25</td>\n",
       "        <td style=\"padding-left: 1em; padding-right: 1em; text-align: center; vertical-align: top\">1715</td>\n",
       "        <td style=\"padding-left: 1em; padding-right: 1em; text-align: center; vertical-align: top\">6819</td>\n",
       "        <td style=\"padding-left: 1em; padding-right: 1em; text-align: center; vertical-align: top\">2</td>\n",
       "        <td style=\"padding-left: 1em; padding-right: 1em; text-align: center; vertical-align: top\">0</td>\n",
       "    </tr>\n",
       "    <tr>\n",
       "        <td style=\"padding-left: 1em; padding-right: 1em; text-align: center; vertical-align: top\">2008000270</td>\n",
       "        <td style=\"padding-left: 1em; padding-right: 1em; text-align: center; vertical-align: top\">2015-01-15 00:00:00+00:00</td>\n",
       "        <td style=\"padding-left: 1em; padding-right: 1em; text-align: center; vertical-align: top\">291850</td>\n",
       "        <td style=\"padding-left: 1em; padding-right: 1em; text-align: center; vertical-align: top\">3</td>\n",
       "        <td style=\"padding-left: 1em; padding-right: 1em; text-align: center; vertical-align: top\">1.5</td>\n",
       "        <td style=\"padding-left: 1em; padding-right: 1em; text-align: center; vertical-align: top\">1060</td>\n",
       "        <td style=\"padding-left: 1em; padding-right: 1em; text-align: center; vertical-align: top\">9711</td>\n",
       "        <td style=\"padding-left: 1em; padding-right: 1em; text-align: center; vertical-align: top\">1</td>\n",
       "        <td style=\"padding-left: 1em; padding-right: 1em; text-align: center; vertical-align: top\">0</td>\n",
       "    </tr>\n",
       "    <tr>\n",
       "        <td style=\"padding-left: 1em; padding-right: 1em; text-align: center; vertical-align: top\">2414600126</td>\n",
       "        <td style=\"padding-left: 1em; padding-right: 1em; text-align: center; vertical-align: top\">2015-04-15 00:00:00+00:00</td>\n",
       "        <td style=\"padding-left: 1em; padding-right: 1em; text-align: center; vertical-align: top\">229500</td>\n",
       "        <td style=\"padding-left: 1em; padding-right: 1em; text-align: center; vertical-align: top\">3</td>\n",
       "        <td style=\"padding-left: 1em; padding-right: 1em; text-align: center; vertical-align: top\">1</td>\n",
       "        <td style=\"padding-left: 1em; padding-right: 1em; text-align: center; vertical-align: top\">1780</td>\n",
       "        <td style=\"padding-left: 1em; padding-right: 1em; text-align: center; vertical-align: top\">7470</td>\n",
       "        <td style=\"padding-left: 1em; padding-right: 1em; text-align: center; vertical-align: top\">1</td>\n",
       "        <td style=\"padding-left: 1em; padding-right: 1em; text-align: center; vertical-align: top\">0</td>\n",
       "    </tr>\n",
       "    <tr>\n",
       "        <td style=\"padding-left: 1em; padding-right: 1em; text-align: center; vertical-align: top\">3793500160</td>\n",
       "        <td style=\"padding-left: 1em; padding-right: 1em; text-align: center; vertical-align: top\">2015-03-12 00:00:00+00:00</td>\n",
       "        <td style=\"padding-left: 1em; padding-right: 1em; text-align: center; vertical-align: top\">323000</td>\n",
       "        <td style=\"padding-left: 1em; padding-right: 1em; text-align: center; vertical-align: top\">3</td>\n",
       "        <td style=\"padding-left: 1em; padding-right: 1em; text-align: center; vertical-align: top\">2.5</td>\n",
       "        <td style=\"padding-left: 1em; padding-right: 1em; text-align: center; vertical-align: top\">1890</td>\n",
       "        <td style=\"padding-left: 1em; padding-right: 1em; text-align: center; vertical-align: top\">6560</td>\n",
       "        <td style=\"padding-left: 1em; padding-right: 1em; text-align: center; vertical-align: top\">2</td>\n",
       "        <td style=\"padding-left: 1em; padding-right: 1em; text-align: center; vertical-align: top\">0</td>\n",
       "    </tr>\n",
       "</table>\n",
       "<table frame=\"box\" rules=\"cols\">\n",
       "    <tr>\n",
       "        <th style=\"padding-left: 1em; padding-right: 1em; text-align: center\">view</th>\n",
       "        <th style=\"padding-left: 1em; padding-right: 1em; text-align: center\">condition</th>\n",
       "        <th style=\"padding-left: 1em; padding-right: 1em; text-align: center\">grade</th>\n",
       "        <th style=\"padding-left: 1em; padding-right: 1em; text-align: center\">sqft_above</th>\n",
       "        <th style=\"padding-left: 1em; padding-right: 1em; text-align: center\">sqft_basement</th>\n",
       "        <th style=\"padding-left: 1em; padding-right: 1em; text-align: center\">yr_built</th>\n",
       "        <th style=\"padding-left: 1em; padding-right: 1em; text-align: center\">yr_renovated</th>\n",
       "        <th style=\"padding-left: 1em; padding-right: 1em; text-align: center\">zipcode</th>\n",
       "        <th style=\"padding-left: 1em; padding-right: 1em; text-align: center\">lat</th>\n",
       "    </tr>\n",
       "    <tr>\n",
       "        <td style=\"padding-left: 1em; padding-right: 1em; text-align: center; vertical-align: top\">0</td>\n",
       "        <td style=\"padding-left: 1em; padding-right: 1em; text-align: center; vertical-align: top\">3</td>\n",
       "        <td style=\"padding-left: 1em; padding-right: 1em; text-align: center; vertical-align: top\">7</td>\n",
       "        <td style=\"padding-left: 1em; padding-right: 1em; text-align: center; vertical-align: top\">1180</td>\n",
       "        <td style=\"padding-left: 1em; padding-right: 1em; text-align: center; vertical-align: top\">0</td>\n",
       "        <td style=\"padding-left: 1em; padding-right: 1em; text-align: center; vertical-align: top\">1955</td>\n",
       "        <td style=\"padding-left: 1em; padding-right: 1em; text-align: center; vertical-align: top\">0</td>\n",
       "        <td style=\"padding-left: 1em; padding-right: 1em; text-align: center; vertical-align: top\">98178</td>\n",
       "        <td style=\"padding-left: 1em; padding-right: 1em; text-align: center; vertical-align: top\">47.51123398</td>\n",
       "    </tr>\n",
       "    <tr>\n",
       "        <td style=\"padding-left: 1em; padding-right: 1em; text-align: center; vertical-align: top\">0</td>\n",
       "        <td style=\"padding-left: 1em; padding-right: 1em; text-align: center; vertical-align: top\">3</td>\n",
       "        <td style=\"padding-left: 1em; padding-right: 1em; text-align: center; vertical-align: top\">7</td>\n",
       "        <td style=\"padding-left: 1em; padding-right: 1em; text-align: center; vertical-align: top\">2170</td>\n",
       "        <td style=\"padding-left: 1em; padding-right: 1em; text-align: center; vertical-align: top\">400</td>\n",
       "        <td style=\"padding-left: 1em; padding-right: 1em; text-align: center; vertical-align: top\">1951</td>\n",
       "        <td style=\"padding-left: 1em; padding-right: 1em; text-align: center; vertical-align: top\">1991</td>\n",
       "        <td style=\"padding-left: 1em; padding-right: 1em; text-align: center; vertical-align: top\">98125</td>\n",
       "        <td style=\"padding-left: 1em; padding-right: 1em; text-align: center; vertical-align: top\">47.72102274</td>\n",
       "    </tr>\n",
       "    <tr>\n",
       "        <td style=\"padding-left: 1em; padding-right: 1em; text-align: center; vertical-align: top\">0</td>\n",
       "        <td style=\"padding-left: 1em; padding-right: 1em; text-align: center; vertical-align: top\">3</td>\n",
       "        <td style=\"padding-left: 1em; padding-right: 1em; text-align: center; vertical-align: top\">6</td>\n",
       "        <td style=\"padding-left: 1em; padding-right: 1em; text-align: center; vertical-align: top\">770</td>\n",
       "        <td style=\"padding-left: 1em; padding-right: 1em; text-align: center; vertical-align: top\">0</td>\n",
       "        <td style=\"padding-left: 1em; padding-right: 1em; text-align: center; vertical-align: top\">1933</td>\n",
       "        <td style=\"padding-left: 1em; padding-right: 1em; text-align: center; vertical-align: top\">0</td>\n",
       "        <td style=\"padding-left: 1em; padding-right: 1em; text-align: center; vertical-align: top\">98028</td>\n",
       "        <td style=\"padding-left: 1em; padding-right: 1em; text-align: center; vertical-align: top\">47.73792661</td>\n",
       "    </tr>\n",
       "    <tr>\n",
       "        <td style=\"padding-left: 1em; padding-right: 1em; text-align: center; vertical-align: top\">0</td>\n",
       "        <td style=\"padding-left: 1em; padding-right: 1em; text-align: center; vertical-align: top\">5</td>\n",
       "        <td style=\"padding-left: 1em; padding-right: 1em; text-align: center; vertical-align: top\">7</td>\n",
       "        <td style=\"padding-left: 1em; padding-right: 1em; text-align: center; vertical-align: top\">1050</td>\n",
       "        <td style=\"padding-left: 1em; padding-right: 1em; text-align: center; vertical-align: top\">910</td>\n",
       "        <td style=\"padding-left: 1em; padding-right: 1em; text-align: center; vertical-align: top\">1965</td>\n",
       "        <td style=\"padding-left: 1em; padding-right: 1em; text-align: center; vertical-align: top\">0</td>\n",
       "        <td style=\"padding-left: 1em; padding-right: 1em; text-align: center; vertical-align: top\">98136</td>\n",
       "        <td style=\"padding-left: 1em; padding-right: 1em; text-align: center; vertical-align: top\">47.52082</td>\n",
       "    </tr>\n",
       "    <tr>\n",
       "        <td style=\"padding-left: 1em; padding-right: 1em; text-align: center; vertical-align: top\">0</td>\n",
       "        <td style=\"padding-left: 1em; padding-right: 1em; text-align: center; vertical-align: top\">3</td>\n",
       "        <td style=\"padding-left: 1em; padding-right: 1em; text-align: center; vertical-align: top\">8</td>\n",
       "        <td style=\"padding-left: 1em; padding-right: 1em; text-align: center; vertical-align: top\">1680</td>\n",
       "        <td style=\"padding-left: 1em; padding-right: 1em; text-align: center; vertical-align: top\">0</td>\n",
       "        <td style=\"padding-left: 1em; padding-right: 1em; text-align: center; vertical-align: top\">1987</td>\n",
       "        <td style=\"padding-left: 1em; padding-right: 1em; text-align: center; vertical-align: top\">0</td>\n",
       "        <td style=\"padding-left: 1em; padding-right: 1em; text-align: center; vertical-align: top\">98074</td>\n",
       "        <td style=\"padding-left: 1em; padding-right: 1em; text-align: center; vertical-align: top\">47.61681228</td>\n",
       "    </tr>\n",
       "    <tr>\n",
       "        <td style=\"padding-left: 1em; padding-right: 1em; text-align: center; vertical-align: top\">0</td>\n",
       "        <td style=\"padding-left: 1em; padding-right: 1em; text-align: center; vertical-align: top\">3</td>\n",
       "        <td style=\"padding-left: 1em; padding-right: 1em; text-align: center; vertical-align: top\">11</td>\n",
       "        <td style=\"padding-left: 1em; padding-right: 1em; text-align: center; vertical-align: top\">3890</td>\n",
       "        <td style=\"padding-left: 1em; padding-right: 1em; text-align: center; vertical-align: top\">1530</td>\n",
       "        <td style=\"padding-left: 1em; padding-right: 1em; text-align: center; vertical-align: top\">2001</td>\n",
       "        <td style=\"padding-left: 1em; padding-right: 1em; text-align: center; vertical-align: top\">0</td>\n",
       "        <td style=\"padding-left: 1em; padding-right: 1em; text-align: center; vertical-align: top\">98053</td>\n",
       "        <td style=\"padding-left: 1em; padding-right: 1em; text-align: center; vertical-align: top\">47.65611835</td>\n",
       "    </tr>\n",
       "    <tr>\n",
       "        <td style=\"padding-left: 1em; padding-right: 1em; text-align: center; vertical-align: top\">0</td>\n",
       "        <td style=\"padding-left: 1em; padding-right: 1em; text-align: center; vertical-align: top\">3</td>\n",
       "        <td style=\"padding-left: 1em; padding-right: 1em; text-align: center; vertical-align: top\">7</td>\n",
       "        <td style=\"padding-left: 1em; padding-right: 1em; text-align: center; vertical-align: top\">1715</td>\n",
       "        <td style=\"padding-left: 1em; padding-right: 1em; text-align: center; vertical-align: top\">0</td>\n",
       "        <td style=\"padding-left: 1em; padding-right: 1em; text-align: center; vertical-align: top\">1995</td>\n",
       "        <td style=\"padding-left: 1em; padding-right: 1em; text-align: center; vertical-align: top\">0</td>\n",
       "        <td style=\"padding-left: 1em; padding-right: 1em; text-align: center; vertical-align: top\">98003</td>\n",
       "        <td style=\"padding-left: 1em; padding-right: 1em; text-align: center; vertical-align: top\">47.30972002</td>\n",
       "    </tr>\n",
       "    <tr>\n",
       "        <td style=\"padding-left: 1em; padding-right: 1em; text-align: center; vertical-align: top\">0</td>\n",
       "        <td style=\"padding-left: 1em; padding-right: 1em; text-align: center; vertical-align: top\">3</td>\n",
       "        <td style=\"padding-left: 1em; padding-right: 1em; text-align: center; vertical-align: top\">7</td>\n",
       "        <td style=\"padding-left: 1em; padding-right: 1em; text-align: center; vertical-align: top\">1060</td>\n",
       "        <td style=\"padding-left: 1em; padding-right: 1em; text-align: center; vertical-align: top\">0</td>\n",
       "        <td style=\"padding-left: 1em; padding-right: 1em; text-align: center; vertical-align: top\">1963</td>\n",
       "        <td style=\"padding-left: 1em; padding-right: 1em; text-align: center; vertical-align: top\">0</td>\n",
       "        <td style=\"padding-left: 1em; padding-right: 1em; text-align: center; vertical-align: top\">98198</td>\n",
       "        <td style=\"padding-left: 1em; padding-right: 1em; text-align: center; vertical-align: top\">47.40949984</td>\n",
       "    </tr>\n",
       "    <tr>\n",
       "        <td style=\"padding-left: 1em; padding-right: 1em; text-align: center; vertical-align: top\">0</td>\n",
       "        <td style=\"padding-left: 1em; padding-right: 1em; text-align: center; vertical-align: top\">3</td>\n",
       "        <td style=\"padding-left: 1em; padding-right: 1em; text-align: center; vertical-align: top\">7</td>\n",
       "        <td style=\"padding-left: 1em; padding-right: 1em; text-align: center; vertical-align: top\">1050</td>\n",
       "        <td style=\"padding-left: 1em; padding-right: 1em; text-align: center; vertical-align: top\">730</td>\n",
       "        <td style=\"padding-left: 1em; padding-right: 1em; text-align: center; vertical-align: top\">1960</td>\n",
       "        <td style=\"padding-left: 1em; padding-right: 1em; text-align: center; vertical-align: top\">0</td>\n",
       "        <td style=\"padding-left: 1em; padding-right: 1em; text-align: center; vertical-align: top\">98146</td>\n",
       "        <td style=\"padding-left: 1em; padding-right: 1em; text-align: center; vertical-align: top\">47.51229381</td>\n",
       "    </tr>\n",
       "    <tr>\n",
       "        <td style=\"padding-left: 1em; padding-right: 1em; text-align: center; vertical-align: top\">0</td>\n",
       "        <td style=\"padding-left: 1em; padding-right: 1em; text-align: center; vertical-align: top\">3</td>\n",
       "        <td style=\"padding-left: 1em; padding-right: 1em; text-align: center; vertical-align: top\">7</td>\n",
       "        <td style=\"padding-left: 1em; padding-right: 1em; text-align: center; vertical-align: top\">1890</td>\n",
       "        <td style=\"padding-left: 1em; padding-right: 1em; text-align: center; vertical-align: top\">0</td>\n",
       "        <td style=\"padding-left: 1em; padding-right: 1em; text-align: center; vertical-align: top\">2003</td>\n",
       "        <td style=\"padding-left: 1em; padding-right: 1em; text-align: center; vertical-align: top\">0</td>\n",
       "        <td style=\"padding-left: 1em; padding-right: 1em; text-align: center; vertical-align: top\">98038</td>\n",
       "        <td style=\"padding-left: 1em; padding-right: 1em; text-align: center; vertical-align: top\">47.36840673</td>\n",
       "    </tr>\n",
       "</table>\n",
       "<table frame=\"box\" rules=\"cols\">\n",
       "    <tr>\n",
       "        <th style=\"padding-left: 1em; padding-right: 1em; text-align: center\">long</th>\n",
       "        <th style=\"padding-left: 1em; padding-right: 1em; text-align: center\">sqft_living15</th>\n",
       "        <th style=\"padding-left: 1em; padding-right: 1em; text-align: center\">sqft_lot15</th>\n",
       "    </tr>\n",
       "    <tr>\n",
       "        <td style=\"padding-left: 1em; padding-right: 1em; text-align: center; vertical-align: top\">-122.25677536</td>\n",
       "        <td style=\"padding-left: 1em; padding-right: 1em; text-align: center; vertical-align: top\">1340.0</td>\n",
       "        <td style=\"padding-left: 1em; padding-right: 1em; text-align: center; vertical-align: top\">5650.0</td>\n",
       "    </tr>\n",
       "    <tr>\n",
       "        <td style=\"padding-left: 1em; padding-right: 1em; text-align: center; vertical-align: top\">-122.3188624</td>\n",
       "        <td style=\"padding-left: 1em; padding-right: 1em; text-align: center; vertical-align: top\">1690.0</td>\n",
       "        <td style=\"padding-left: 1em; padding-right: 1em; text-align: center; vertical-align: top\">7639.0</td>\n",
       "    </tr>\n",
       "    <tr>\n",
       "        <td style=\"padding-left: 1em; padding-right: 1em; text-align: center; vertical-align: top\">-122.23319601</td>\n",
       "        <td style=\"padding-left: 1em; padding-right: 1em; text-align: center; vertical-align: top\">2720.0</td>\n",
       "        <td style=\"padding-left: 1em; padding-right: 1em; text-align: center; vertical-align: top\">8062.0</td>\n",
       "    </tr>\n",
       "    <tr>\n",
       "        <td style=\"padding-left: 1em; padding-right: 1em; text-align: center; vertical-align: top\">-122.39318505</td>\n",
       "        <td style=\"padding-left: 1em; padding-right: 1em; text-align: center; vertical-align: top\">1360.0</td>\n",
       "        <td style=\"padding-left: 1em; padding-right: 1em; text-align: center; vertical-align: top\">5000.0</td>\n",
       "    </tr>\n",
       "    <tr>\n",
       "        <td style=\"padding-left: 1em; padding-right: 1em; text-align: center; vertical-align: top\">-122.04490059</td>\n",
       "        <td style=\"padding-left: 1em; padding-right: 1em; text-align: center; vertical-align: top\">1800.0</td>\n",
       "        <td style=\"padding-left: 1em; padding-right: 1em; text-align: center; vertical-align: top\">7503.0</td>\n",
       "    </tr>\n",
       "    <tr>\n",
       "        <td style=\"padding-left: 1em; padding-right: 1em; text-align: center; vertical-align: top\">-122.00528655</td>\n",
       "        <td style=\"padding-left: 1em; padding-right: 1em; text-align: center; vertical-align: top\">4760.0</td>\n",
       "        <td style=\"padding-left: 1em; padding-right: 1em; text-align: center; vertical-align: top\">101930.0</td>\n",
       "    </tr>\n",
       "    <tr>\n",
       "        <td style=\"padding-left: 1em; padding-right: 1em; text-align: center; vertical-align: top\">-122.32704857</td>\n",
       "        <td style=\"padding-left: 1em; padding-right: 1em; text-align: center; vertical-align: top\">2238.0</td>\n",
       "        <td style=\"padding-left: 1em; padding-right: 1em; text-align: center; vertical-align: top\">6819.0</td>\n",
       "    </tr>\n",
       "    <tr>\n",
       "        <td style=\"padding-left: 1em; padding-right: 1em; text-align: center; vertical-align: top\">-122.31457273</td>\n",
       "        <td style=\"padding-left: 1em; padding-right: 1em; text-align: center; vertical-align: top\">1650.0</td>\n",
       "        <td style=\"padding-left: 1em; padding-right: 1em; text-align: center; vertical-align: top\">9711.0</td>\n",
       "    </tr>\n",
       "    <tr>\n",
       "        <td style=\"padding-left: 1em; padding-right: 1em; text-align: center; vertical-align: top\">-122.33659507</td>\n",
       "        <td style=\"padding-left: 1em; padding-right: 1em; text-align: center; vertical-align: top\">1780.0</td>\n",
       "        <td style=\"padding-left: 1em; padding-right: 1em; text-align: center; vertical-align: top\">8113.0</td>\n",
       "    </tr>\n",
       "    <tr>\n",
       "        <td style=\"padding-left: 1em; padding-right: 1em; text-align: center; vertical-align: top\">-122.0308176</td>\n",
       "        <td style=\"padding-left: 1em; padding-right: 1em; text-align: center; vertical-align: top\">2390.0</td>\n",
       "        <td style=\"padding-left: 1em; padding-right: 1em; text-align: center; vertical-align: top\">7570.0</td>\n",
       "    </tr>\n",
       "</table>\n",
       "[? rows x 21 columns]<br/>Note: Only the head of the SFrame is printed. This SFrame is lazily evaluated.<br/>You can use len(sf) to force materialization.\n",
       "</div>"
      ],
      "text/plain": [
       "Columns:\n",
       "\tid\tstr\n",
       "\tdate\tdatetime\n",
       "\tprice\tint\n",
       "\tbedrooms\tstr\n",
       "\tbathrooms\tstr\n",
       "\tsqft_living\tint\n",
       "\tsqft_lot\tint\n",
       "\tfloors\tstr\n",
       "\twaterfront\tint\n",
       "\tview\tint\n",
       "\tcondition\tint\n",
       "\tgrade\tint\n",
       "\tsqft_above\tint\n",
       "\tsqft_basement\tint\n",
       "\tyr_built\tint\n",
       "\tyr_renovated\tint\n",
       "\tzipcode\tstr\n",
       "\tlat\tfloat\n",
       "\tlong\tfloat\n",
       "\tsqft_living15\tfloat\n",
       "\tsqft_lot15\tfloat\n",
       "\n",
       "Rows: Unknown\n",
       "\n",
       "Data:\n",
       "+------------+---------------------------+---------+----------+-----------+-------------+\n",
       "|     id     |            date           |  price  | bedrooms | bathrooms | sqft_living |\n",
       "+------------+---------------------------+---------+----------+-----------+-------------+\n",
       "| 7129300520 | 2014-10-13 00:00:00+00:00 |  221900 |    3     |     1     |     1180    |\n",
       "| 6414100192 | 2014-12-09 00:00:00+00:00 |  538000 |    3     |    2.25   |     2570    |\n",
       "| 5631500400 | 2015-02-25 00:00:00+00:00 |  180000 |    2     |     1     |     770     |\n",
       "| 2487200875 | 2014-12-09 00:00:00+00:00 |  604000 |    4     |     3     |     1960    |\n",
       "| 1954400510 | 2015-02-18 00:00:00+00:00 |  510000 |    3     |     2     |     1680    |\n",
       "| 7237550310 | 2014-05-12 00:00:00+00:00 | 1225000 |    4     |    4.5    |     5420    |\n",
       "| 1321400060 | 2014-06-27 00:00:00+00:00 |  257500 |    3     |    2.25   |     1715    |\n",
       "| 2008000270 | 2015-01-15 00:00:00+00:00 |  291850 |    3     |    1.5    |     1060    |\n",
       "| 2414600126 | 2015-04-15 00:00:00+00:00 |  229500 |    3     |     1     |     1780    |\n",
       "| 3793500160 | 2015-03-12 00:00:00+00:00 |  323000 |    3     |    2.5    |     1890    |\n",
       "+------------+---------------------------+---------+----------+-----------+-------------+\n",
       "+----------+--------+------------+------+-----------+-------+------------+---------------+\n",
       "| sqft_lot | floors | waterfront | view | condition | grade | sqft_above | sqft_basement |\n",
       "+----------+--------+------------+------+-----------+-------+------------+---------------+\n",
       "|   5650   |   1    |     0      |  0   |     3     |   7   |    1180    |       0       |\n",
       "|   7242   |   2    |     0      |  0   |     3     |   7   |    2170    |      400      |\n",
       "|  10000   |   1    |     0      |  0   |     3     |   6   |    770     |       0       |\n",
       "|   5000   |   1    |     0      |  0   |     5     |   7   |    1050    |      910      |\n",
       "|   8080   |   1    |     0      |  0   |     3     |   8   |    1680    |       0       |\n",
       "|  101930  |   1    |     0      |  0   |     3     |   11  |    3890    |      1530     |\n",
       "|   6819   |   2    |     0      |  0   |     3     |   7   |    1715    |       0       |\n",
       "|   9711   |   1    |     0      |  0   |     3     |   7   |    1060    |       0       |\n",
       "|   7470   |   1    |     0      |  0   |     3     |   7   |    1050    |      730      |\n",
       "|   6560   |   2    |     0      |  0   |     3     |   7   |    1890    |       0       |\n",
       "+----------+--------+------------+------+-----------+-------+------------+---------------+\n",
       "+----------+--------------+---------+-------------+---------------+---------------+-----+\n",
       "| yr_built | yr_renovated | zipcode |     lat     |      long     | sqft_living15 | ... |\n",
       "+----------+--------------+---------+-------------+---------------+---------------+-----+\n",
       "|   1955   |      0       |  98178  | 47.51123398 | -122.25677536 |     1340.0    | ... |\n",
       "|   1951   |     1991     |  98125  | 47.72102274 |  -122.3188624 |     1690.0    | ... |\n",
       "|   1933   |      0       |  98028  | 47.73792661 | -122.23319601 |     2720.0    | ... |\n",
       "|   1965   |      0       |  98136  |   47.52082  | -122.39318505 |     1360.0    | ... |\n",
       "|   1987   |      0       |  98074  | 47.61681228 | -122.04490059 |     1800.0    | ... |\n",
       "|   2001   |      0       |  98053  | 47.65611835 | -122.00528655 |     4760.0    | ... |\n",
       "|   1995   |      0       |  98003  | 47.30972002 | -122.32704857 |     2238.0    | ... |\n",
       "|   1963   |      0       |  98198  | 47.40949984 | -122.31457273 |     1650.0    | ... |\n",
       "|   1960   |      0       |  98146  | 47.51229381 | -122.33659507 |     1780.0    | ... |\n",
       "|   2003   |      0       |  98038  | 47.36840673 |  -122.0308176 |     2390.0    | ... |\n",
       "+----------+--------------+---------+-------------+---------------+---------------+-----+\n",
       "[? rows x 21 columns]\n",
       "Note: Only the head of the SFrame is printed. This SFrame is lazily evaluated.\n",
       "You can use len(sf) to force materialization."
      ]
     },
     "execution_count": 19,
     "metadata": {},
     "output_type": "execute_result"
    }
   ],
   "source": [
    "train_house"
   ]
  },
  {
   "cell_type": "code",
   "execution_count": 20,
   "metadata": {
    "collapsed": false
   },
   "outputs": [
    {
     "name": "stdout",
     "output_type": "stream",
     "text": [
      "PROGRESS: Boosted trees regression:\n",
      "PROGRESS: --------------------------------------------------------\n",
      "PROGRESS: Number of examples          : 17384\n",
      "PROGRESS: Number of features          : 3\n",
      "PROGRESS: Number of unpacked features : 3\n",
      "PROGRESS: +-----------+--------------+--------------------+---------------+\n",
      "PROGRESS: | Iteration | Elapsed Time | Training-max_error | Training-rmse |\n",
      "PROGRESS: +-----------+--------------+--------------------+---------------+\n",
      "PROGRESS: | 1         | 0.020589     | 6.31169e+06        | 490747        |\n",
      "PROGRESS: | 2         | 0.027766     | 5.14891e+06        | 384805        |\n",
      "PROGRESS: | 3         | 0.034441     | 4.43839e+06        | 318754        |\n",
      "PROGRESS: | 4         | 0.041992     | 3.76945e+06        | 279671        |\n",
      "PROGRESS: | 5         | 0.049338     | 3.07931e+06        | 257357        |\n",
      "PROGRESS: | 6         | 0.056081     | 2.58539e+06        | 244356        |\n",
      "PROGRESS: | 7         | 0.064159     | 2.1664e+06         | 237412        |\n",
      "PROGRESS: | 8         | 0.072188     | 2.04912e+06        | 233056        |\n",
      "PROGRESS: | 9         | 0.078873     | 2.00949e+06        | 230429        |\n",
      "PROGRESS: | 10        | 0.086113     | 1.95244e+06        | 228743        |\n",
      "PROGRESS: +-----------+--------------+--------------------+---------------+\n"
     ]
    }
   ],
   "source": [
    "model_train = gl.regression.create(train_house,target='price',features = ['bedrooms','bathrooms','sqft_living'])"
   ]
  },
  {
   "cell_type": "code",
   "execution_count": 21,
   "metadata": {
    "collapsed": false
   },
   "outputs": [
    {
     "data": {
      "text/plain": [
       "Class                         : BoostedTreesRegression\n",
       "\n",
       "Schema\n",
       "------\n",
       "Number of examples            : 17384\n",
       "Number of feature columns     : 3\n",
       "Number of unpacked features   : 3\n",
       "\n",
       "Settings\n",
       "--------\n",
       "Number of trees               : 10\n",
       "Max tree depth                : 6\n",
       "Train RMSE                    : 228742.8484\n",
       "Validation RMSE               : None\n",
       "Training time (sec)           : 0.0862"
      ]
     },
     "execution_count": 21,
     "metadata": {},
     "output_type": "execute_result"
    }
   ],
   "source": [
    "model_train"
   ]
  },
  {
   "cell_type": "code",
   "execution_count": 22,
   "metadata": {
    "collapsed": true
   },
   "outputs": [],
   "source": [
    "results = model_train.evaluate(test_house)"
   ]
  },
  {
   "cell_type": "code",
   "execution_count": 23,
   "metadata": {
    "collapsed": false
   },
   "outputs": [
    {
     "data": {
      "text/plain": [
       "{'max_error': 2124632.25, 'rmse': 240591.72382313779}"
      ]
     },
     "execution_count": 23,
     "metadata": {},
     "output_type": "execute_result"
    }
   ],
   "source": [
    "results"
   ]
  },
  {
   "cell_type": "code",
   "execution_count": 25,
   "metadata": {
    "collapsed": false
   },
   "outputs": [
    {
     "data": {
      "text/plain": [
       "dtype: float\n",
       "Rows: 1\n",
       "[316031.65625]"
      ]
     },
     "execution_count": 25,
     "metadata": {},
     "output_type": "execute_result"
    }
   ],
   "source": [
    "model_train.predict(train_house[['id']==7129300520])"
   ]
  },
  {
   "cell_type": "code",
   "execution_count": null,
   "metadata": {
    "collapsed": true
   },
   "outputs": [],
   "source": []
  }
 ],
 "metadata": {
  "kernelspec": {
   "display_name": "Python 2",
   "language": "python",
   "name": "python2"
  },
  "language_info": {
   "codemirror_mode": {
    "name": "ipython",
    "version": 2
   },
   "file_extension": ".py",
   "mimetype": "text/x-python",
   "name": "python",
   "nbconvert_exporter": "python",
   "pygments_lexer": "ipython2",
   "version": "2.7.11"
  }
 },
 "nbformat": 4,
 "nbformat_minor": 0
}
