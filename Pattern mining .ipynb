{
 "cells": [
  {
   "cell_type": "code",
   "execution_count": 1,
   "metadata": {
    "collapsed": false
   },
   "outputs": [
    {
     "name": "stderr",
     "output_type": "stream",
     "text": [
      "A newer version of GraphLab Create (v1.8.5) is available! Your current version is v1.8.\n",
      "\n",
      "You can use pip to upgrade the graphlab-create package. For more information see https://dato.com/products/create/upgrade.\n"
     ]
    }
   ],
   "source": [
    "import graphlab as gl"
   ]
  },
  {
   "cell_type": "code",
   "execution_count": 2,
   "metadata": {
    "collapsed": false
   },
   "outputs": [
    {
     "name": "stderr",
     "output_type": "stream",
     "text": [
      "[INFO] This non-commercial license of GraphLab Create is assigned to rsharvirala@scu.edu and will expire on January 23, 2017. For commercial licensing options, visit https://dato.com/buy/.\n",
      "\n",
      "[INFO] Start server at: ipc:///tmp/graphlab_server-919 - Server binary: /Users/ravikiran/anaconda/envs/dato-env/lib/python2.7/site-packages/graphlab/unity_server - Server log: /tmp/graphlab_server_1460094676.log\n",
      "[INFO] GraphLab Server Version: 1.8\n"
     ]
    },
    {
     "name": "stdout",
     "output_type": "stream",
     "text": [
      "PROGRESS: Downloading http://s3.amazonaws.com/dato-datasets/bakery.sf/dir_archive.ini to /var/tmp/graphlab-ravikiran/919/6333b0f6-8e26-4f51-87b4-42dceca55c4b.ini\n",
      "PROGRESS: Downloading http://s3.amazonaws.com/dato-datasets/bakery.sf/objects.bin to /var/tmp/graphlab-ravikiran/919/5bc2ec69-f4d5-4bd1-9de5-91d552562989.bin\n",
      "PROGRESS: Downloading http://s3.amazonaws.com/dato-datasets/bakery.sf/m_b75e1eebaa5ba9ce.frame_idx to /var/tmp/graphlab-ravikiran/919/dfb63cc4-a576-4273-8269-c00b95d85ba9.frame_idx\n",
      "PROGRESS: Downloading http://s3.amazonaws.com/dato-datasets/bakery.sf/m_b75e1eebaa5ba9ce.sidx to /var/tmp/graphlab-ravikiran/919/5ad4bcb4-5a28-4952-ab0d-872ca50805d3.sidx\n"
     ]
    }
   ],
   "source": [
    "bakery_sf = gl.SFrame(\"http://s3.amazonaws.com/dato-datasets/bakery.sf\")"
   ]
  },
  {
   "cell_type": "code",
   "execution_count": 3,
   "metadata": {
    "collapsed": false
   },
   "outputs": [
    {
     "name": "stdout",
     "output_type": "stream",
     "text": [
      "PROGRESS: Downloading http://s3.amazonaws.com/dato-datasets/bakery.sf/m_b75e1eebaa5ba9ce.0000 to /var/tmp/graphlab-ravikiran/919/2da2a1d4-d96f-4090-8060-498c92d4a962.0000\n"
     ]
    },
    {
     "data": {
      "text/html": [
       "<div style=\"max-height:1000px;max-width:1500px;overflow:auto;\"><table frame=\"box\" rules=\"cols\">\n",
       "    <tr>\n",
       "        <th style=\"padding-left: 1em; padding-right: 1em; text-align: center\">Receipt</th>\n",
       "        <th style=\"padding-left: 1em; padding-right: 1em; text-align: center\">SaleDate</th>\n",
       "        <th style=\"padding-left: 1em; padding-right: 1em; text-align: center\">EmpId</th>\n",
       "        <th style=\"padding-left: 1em; padding-right: 1em; text-align: center\">StoreNum</th>\n",
       "        <th style=\"padding-left: 1em; padding-right: 1em; text-align: center\">Quantity</th>\n",
       "        <th style=\"padding-left: 1em; padding-right: 1em; text-align: center\">Item</th>\n",
       "    </tr>\n",
       "    <tr>\n",
       "        <td style=\"padding-left: 1em; padding-right: 1em; text-align: center; vertical-align: top\">1</td>\n",
       "        <td style=\"padding-left: 1em; padding-right: 1em; text-align: center; vertical-align: top\">12-JAN-2000</td>\n",
       "        <td style=\"padding-left: 1em; padding-right: 1em; text-align: center; vertical-align: top\">20</td>\n",
       "        <td style=\"padding-left: 1em; padding-right: 1em; text-align: center; vertical-align: top\">20</td>\n",
       "        <td style=\"padding-left: 1em; padding-right: 1em; text-align: center; vertical-align: top\">1</td>\n",
       "        <td style=\"padding-left: 1em; padding-right: 1em; text-align: center; vertical-align: top\">GanacheCookie</td>\n",
       "    </tr>\n",
       "    <tr>\n",
       "        <td style=\"padding-left: 1em; padding-right: 1em; text-align: center; vertical-align: top\">1</td>\n",
       "        <td style=\"padding-left: 1em; padding-right: 1em; text-align: center; vertical-align: top\">12-JAN-2000</td>\n",
       "        <td style=\"padding-left: 1em; padding-right: 1em; text-align: center; vertical-align: top\">20</td>\n",
       "        <td style=\"padding-left: 1em; padding-right: 1em; text-align: center; vertical-align: top\">20</td>\n",
       "        <td style=\"padding-left: 1em; padding-right: 1em; text-align: center; vertical-align: top\">5</td>\n",
       "        <td style=\"padding-left: 1em; padding-right: 1em; text-align: center; vertical-align: top\">ApplePie</td>\n",
       "    </tr>\n",
       "    <tr>\n",
       "        <td style=\"padding-left: 1em; padding-right: 1em; text-align: center; vertical-align: top\">2</td>\n",
       "        <td style=\"padding-left: 1em; padding-right: 1em; text-align: center; vertical-align: top\">15-JAN-2000</td>\n",
       "        <td style=\"padding-left: 1em; padding-right: 1em; text-align: center; vertical-align: top\">35</td>\n",
       "        <td style=\"padding-left: 1em; padding-right: 1em; text-align: center; vertical-align: top\">10</td>\n",
       "        <td style=\"padding-left: 1em; padding-right: 1em; text-align: center; vertical-align: top\">1</td>\n",
       "        <td style=\"padding-left: 1em; padding-right: 1em; text-align: center; vertical-align: top\">CoffeeEclair</td>\n",
       "    </tr>\n",
       "    <tr>\n",
       "        <td style=\"padding-left: 1em; padding-right: 1em; text-align: center; vertical-align: top\">2</td>\n",
       "        <td style=\"padding-left: 1em; padding-right: 1em; text-align: center; vertical-align: top\">15-JAN-2000</td>\n",
       "        <td style=\"padding-left: 1em; padding-right: 1em; text-align: center; vertical-align: top\">35</td>\n",
       "        <td style=\"padding-left: 1em; padding-right: 1em; text-align: center; vertical-align: top\">10</td>\n",
       "        <td style=\"padding-left: 1em; padding-right: 1em; text-align: center; vertical-align: top\">3</td>\n",
       "        <td style=\"padding-left: 1em; padding-right: 1em; text-align: center; vertical-align: top\">ApplePie</td>\n",
       "    </tr>\n",
       "    <tr>\n",
       "        <td style=\"padding-left: 1em; padding-right: 1em; text-align: center; vertical-align: top\">2</td>\n",
       "        <td style=\"padding-left: 1em; padding-right: 1em; text-align: center; vertical-align: top\">15-JAN-2000</td>\n",
       "        <td style=\"padding-left: 1em; padding-right: 1em; text-align: center; vertical-align: top\">35</td>\n",
       "        <td style=\"padding-left: 1em; padding-right: 1em; text-align: center; vertical-align: top\">10</td>\n",
       "        <td style=\"padding-left: 1em; padding-right: 1em; text-align: center; vertical-align: top\">4</td>\n",
       "        <td style=\"padding-left: 1em; padding-right: 1em; text-align: center; vertical-align: top\">AlmondTwist</td>\n",
       "    </tr>\n",
       "    <tr>\n",
       "        <td style=\"padding-left: 1em; padding-right: 1em; text-align: center; vertical-align: top\">2</td>\n",
       "        <td style=\"padding-left: 1em; padding-right: 1em; text-align: center; vertical-align: top\">15-JAN-2000</td>\n",
       "        <td style=\"padding-left: 1em; padding-right: 1em; text-align: center; vertical-align: top\">35</td>\n",
       "        <td style=\"padding-left: 1em; padding-right: 1em; text-align: center; vertical-align: top\">10</td>\n",
       "        <td style=\"padding-left: 1em; padding-right: 1em; text-align: center; vertical-align: top\">3</td>\n",
       "        <td style=\"padding-left: 1em; padding-right: 1em; text-align: center; vertical-align: top\">HotCoffee</td>\n",
       "    </tr>\n",
       "    <tr>\n",
       "        <td style=\"padding-left: 1em; padding-right: 1em; text-align: center; vertical-align: top\">3</td>\n",
       "        <td style=\"padding-left: 1em; padding-right: 1em; text-align: center; vertical-align: top\">8-JAN-2000</td>\n",
       "        <td style=\"padding-left: 1em; padding-right: 1em; text-align: center; vertical-align: top\">13</td>\n",
       "        <td style=\"padding-left: 1em; padding-right: 1em; text-align: center; vertical-align: top\">13</td>\n",
       "        <td style=\"padding-left: 1em; padding-right: 1em; text-align: center; vertical-align: top\">5</td>\n",
       "        <td style=\"padding-left: 1em; padding-right: 1em; text-align: center; vertical-align: top\">OperaCake</td>\n",
       "    </tr>\n",
       "    <tr>\n",
       "        <td style=\"padding-left: 1em; padding-right: 1em; text-align: center; vertical-align: top\">3</td>\n",
       "        <td style=\"padding-left: 1em; padding-right: 1em; text-align: center; vertical-align: top\">8-JAN-2000</td>\n",
       "        <td style=\"padding-left: 1em; padding-right: 1em; text-align: center; vertical-align: top\">13</td>\n",
       "        <td style=\"padding-left: 1em; padding-right: 1em; text-align: center; vertical-align: top\">13</td>\n",
       "        <td style=\"padding-left: 1em; padding-right: 1em; text-align: center; vertical-align: top\">3</td>\n",
       "        <td style=\"padding-left: 1em; padding-right: 1em; text-align: center; vertical-align: top\">OrangeJuice</td>\n",
       "    </tr>\n",
       "    <tr>\n",
       "        <td style=\"padding-left: 1em; padding-right: 1em; text-align: center; vertical-align: top\">3</td>\n",
       "        <td style=\"padding-left: 1em; padding-right: 1em; text-align: center; vertical-align: top\">8-JAN-2000</td>\n",
       "        <td style=\"padding-left: 1em; padding-right: 1em; text-align: center; vertical-align: top\">13</td>\n",
       "        <td style=\"padding-left: 1em; padding-right: 1em; text-align: center; vertical-align: top\">13</td>\n",
       "        <td style=\"padding-left: 1em; padding-right: 1em; text-align: center; vertical-align: top\">3</td>\n",
       "        <td style=\"padding-left: 1em; padding-right: 1em; text-align: center; vertical-align: top\">CheeseCroissant</td>\n",
       "    </tr>\n",
       "    <tr>\n",
       "        <td style=\"padding-left: 1em; padding-right: 1em; text-align: center; vertical-align: top\">4</td>\n",
       "        <td style=\"padding-left: 1em; padding-right: 1em; text-align: center; vertical-align: top\">24-JAN-2000</td>\n",
       "        <td style=\"padding-left: 1em; padding-right: 1em; text-align: center; vertical-align: top\">16</td>\n",
       "        <td style=\"padding-left: 1em; padding-right: 1em; text-align: center; vertical-align: top\">16</td>\n",
       "        <td style=\"padding-left: 1em; padding-right: 1em; text-align: center; vertical-align: top\">1</td>\n",
       "        <td style=\"padding-left: 1em; padding-right: 1em; text-align: center; vertical-align: top\">TruffleCake</td>\n",
       "    </tr>\n",
       "</table>\n",
       "[266209 rows x 6 columns]<br/>Note: Only the head of the SFrame is printed.<br/>You can use print_rows(num_rows=m, num_columns=n) to print more rows and columns.\n",
       "</div>"
      ],
      "text/plain": [
       "Columns:\n",
       "\tReceipt\tint\n",
       "\tSaleDate\tstr\n",
       "\tEmpId\tint\n",
       "\tStoreNum\tint\n",
       "\tQuantity\tint\n",
       "\tItem\tstr\n",
       "\n",
       "Rows: 266209\n",
       "\n",
       "Data:\n",
       "+---------+-------------+-------+----------+----------+-----------------+\n",
       "| Receipt |   SaleDate  | EmpId | StoreNum | Quantity |       Item      |\n",
       "+---------+-------------+-------+----------+----------+-----------------+\n",
       "|    1    | 12-JAN-2000 |   20  |    20    |    1     |  GanacheCookie  |\n",
       "|    1    | 12-JAN-2000 |   20  |    20    |    5     |     ApplePie    |\n",
       "|    2    | 15-JAN-2000 |   35  |    10    |    1     |   CoffeeEclair  |\n",
       "|    2    | 15-JAN-2000 |   35  |    10    |    3     |     ApplePie    |\n",
       "|    2    | 15-JAN-2000 |   35  |    10    |    4     |   AlmondTwist   |\n",
       "|    2    | 15-JAN-2000 |   35  |    10    |    3     |    HotCoffee    |\n",
       "|    3    |  8-JAN-2000 |   13  |    13    |    5     |    OperaCake    |\n",
       "|    3    |  8-JAN-2000 |   13  |    13    |    3     |   OrangeJuice   |\n",
       "|    3    |  8-JAN-2000 |   13  |    13    |    3     | CheeseCroissant |\n",
       "|    4    | 24-JAN-2000 |   16  |    16    |    1     |   TruffleCake   |\n",
       "+---------+-------------+-------+----------+----------+-----------------+\n",
       "[266209 rows x 6 columns]\n",
       "Note: Only the head of the SFrame is printed.\n",
       "You can use print_rows(num_rows=m, num_columns=n) to print more rows and columns."
      ]
     },
     "execution_count": 3,
     "metadata": {},
     "output_type": "execute_result"
    }
   ],
   "source": [
    "bakery_sf"
   ]
  },
  {
   "cell_type": "code",
   "execution_count": 4,
   "metadata": {
    "collapsed": false
   },
   "outputs": [
    {
     "name": "stdout",
     "output_type": "stream",
     "text": [
      "Canvas is accessible via web browser at the URL: http://localhost:53625/index.html\n",
      "Opening Canvas in default web browser.\n"
     ]
    }
   ],
   "source": [
    "bakery_sf.show()"
   ]
  },
  {
   "cell_type": "code",
   "execution_count": 6,
   "metadata": {
    "collapsed": false
   },
   "outputs": [
    {
     "name": "stdout",
     "output_type": "stream",
     "text": [
      "PROGRESS: Indexing complete. Found 50 unique items.\n",
      "PROGRESS: Preprocessing complete. Found 75000 unique transactions.\n",
      "PROGRESS: Building frequent pattern tree.\n",
      "PROGRESS: +-----------+----------------+------------+----------------------+------------------+\n",
      "PROGRESS: | Iteration | Num. Patterns  | Support    | Current Min Support  | Elapsed Time     |\n",
      "PROGRESS: +-----------+----------------+------------+----------------------+------------------+\n",
      "PROGRESS: | 0         | 0              | 8193       | 188                  | 533us            |\n",
      "PROGRESS: | 1         | 1              | 7700       | 188                  | 1.084ms          |\n",
      "PROGRESS: | 2         | 3              | 7556       | 188                  | 1.202ms          |\n",
      "PROGRESS: | 3         | 6              | 6987       | 188                  | 1.383ms          |\n",
      "PROGRESS: | 4         | 10             | 6948       | 188                  | 1.545ms          |\n",
      "PROGRESS: | 5         | 15             | 6943       | 188                  | 1.769ms          |\n",
      "PROGRESS: | 6         | 21             | 6871       | 188                  | 2.055ms          |\n",
      "PROGRESS: | 7         | 28             | 6783       | 188                  | 2.383ms          |\n",
      "PROGRESS: | 8         | 36             | 6733       | 188                  | 2.775ms          |\n",
      "PROGRESS: | 9         | 45             | 6362       | 188                  | 3.33ms           |\n",
      "PROGRESS: | 10        | 55             | 6299       | 188                  | 3.995ms          |\n",
      "PROGRESS: | 11        | 66             | 6271       | 188                  | 5.05ms           |\n",
      "PROGRESS: | 12        | 78             | 6265       | 188                  | 5.723ms          |\n",
      "PROGRESS: | 13        | 91             | 6236       | 188                  | 6.387ms          |\n",
      "PROGRESS: | 14        | 100            | 6221       | 293                  | 7.246ms          |\n",
      "PROGRESS: | 15        | 100            | 6206       | 322                  | 8.246ms          |\n",
      "PROGRESS: | 16        | 100            | 6168       | 342                  | 9.567ms          |\n",
      "PROGRESS: | 17        | 100            | 6166       | 352                  | 10.739ms         |\n",
      "PROGRESS: | 18        | 100            | 6157       | 357                  | 11.727ms         |\n",
      "PROGRESS: | 19        | 100            | 5810       | 362                  | 12.513ms         |\n",
      "PROGRESS: | 20        | 100            | 5790       | 362                  | 13.18ms          |\n",
      "PROGRESS: | 21        | 100            | 5784       | 364                  | 13.972ms         |\n",
      "PROGRESS: | 22        | 100            | 5690       | 372                  | 14.964ms         |\n",
      "PROGRESS: | 23        | 100            | 5685       | 376                  | 15.951ms         |\n",
      "PROGRESS: | 24        | 100            | 5640       | 381                  | 17.225ms         |\n",
      "PROGRESS: | 25        | 100            | 5626       | 383                  | 18.626ms         |\n",
      "PROGRESS: | 26        | 100            | 5529       | 386                  | 19.912ms         |\n",
      "PROGRESS: | 27        | 100            | 5118       | 387                  | 21.173ms         |\n",
      "PROGRESS: | 28        | 100            | 5117       | 388                  | 22.236ms         |\n",
      "PROGRESS: | 29        | 100            | 5101       | 388                  | 23.346ms         |\n",
      "PROGRESS: | 30        | 100            | 5098       | 388                  | 24.584ms         |\n",
      "PROGRESS: | 31        | 100            | 5089       | 393                  | 26.212ms         |\n",
      "PROGRESS: | 32        | 100            | 5081       | 396                  | 27.917ms         |\n",
      "PROGRESS: | 33        | 100            | 5077       | 400                  | 29.514ms         |\n",
      "PROGRESS: | 34        | 100            | 5073       | 402                  | 31.237ms         |\n",
      "PROGRESS: | 35        | 100            | 5047       | 415                  | 33.111ms         |\n",
      "PROGRESS: | 36        | 100            | 4685       | 422                  | 35.083ms         |\n",
      "PROGRESS: | 37        | 100            | 4649       | 1556                 | 37.116ms         |\n",
      "PROGRESS: | 38        | 100            | 3307       | 1564                 | 39.461ms         |\n",
      "PROGRESS: | 39        | 100            | 3253       | 1565                 | 41.417ms         |\n",
      "PROGRESS: | 40        | 100            | 3243       | 1570                 | 43.387ms         |\n",
      "PROGRESS: | 41        | 100            | 3243       | 1709                 | 45.266ms         |\n",
      "PROGRESS: | 42        | 100            | 3205       | 1717                 | 47.233ms         |\n",
      "PROGRESS: | 43        | 100            | 3189       | 1719                 | 49.223ms         |\n",
      "PROGRESS: | 44        | 100            | 3183       | 1727                 | 51.271ms         |\n",
      "PROGRESS: | 45        | 100            | 3179       | 1731                 | 53.47ms          |\n",
      "PROGRESS: | 46        | 100            | 3178       | 1735                 | 55.631ms         |\n",
      "PROGRESS: | 47        | 100            | 3177       | 1736                 | 57.866ms         |\n",
      "PROGRESS: | 48        | 100            | 3153       | 1913                 | 60.176ms         |\n",
      "PROGRESS: | 49        | 100            | 3145       | 1917                 | 62.481ms         |\n",
      "PROGRESS: | Final     | 100            | -          | 1922                 | 64.895ms         |\n",
      "PROGRESS: +-----------+----------------+------------+----------------------+------------------+\n",
      "PROGRESS: Pattern mining complete. Found 100 unique closed patterns.\n"
     ]
    }
   ],
   "source": [
    "model = gl.frequent_pattern_mining.create(dataset=bakery_sf,item=\"Item\",features=['Receipt'])"
   ]
  },
  {
   "cell_type": "code",
   "execution_count": 7,
   "metadata": {
    "collapsed": false
   },
   "outputs": [
    {
     "data": {
      "text/plain": [
       "Class                         : FrequentPatternMiner\n",
       "\n",
       "Model fields\n",
       "------------\n",
       "Min support                   : 1\n",
       "Max patterns                  : 100\n",
       "Min pattern length            : 1\n",
       "\n",
       "Most frequent patterns\n",
       "----------------------\n",
       "['CoffeeEclair']              : 8193\n",
       "['HotCoffee']                 : 7700\n",
       "['TuileCookie']               : 7556\n",
       "['CherryTart']                : 6987\n",
       "['StrawberryCake']            : 6948\n",
       "['ApricotDanish']             : 6943\n",
       "['OrangeJuice']               : 6871\n",
       "['GongolaisCookie']           : 6783\n",
       "['MarzipanCookie']            : 6733\n",
       "['BerryTart']                 : 6362"
      ]
     },
     "execution_count": 7,
     "metadata": {},
     "output_type": "execute_result"
    }
   ],
   "source": [
    "model"
   ]
  },
  {
   "cell_type": "code",
   "execution_count": 8,
   "metadata": {
    "collapsed": false
   },
   "outputs": [
    {
     "name": "stdout",
     "output_type": "stream",
     "text": [
      "PROGRESS: Preprocessing complete. Found 75000 unique transactions.\n"
     ]
    }
   ],
   "source": [
    "features = model.extract_features(dataset=bakery_sf)"
   ]
  },
  {
   "cell_type": "code",
   "execution_count": 9,
   "metadata": {
    "collapsed": false
   },
   "outputs": [
    {
     "data": {
      "text/html": [
       "<div style=\"max-height:1000px;max-width:1500px;overflow:auto;\"><table frame=\"box\" rules=\"cols\">\n",
       "    <tr>\n",
       "        <th style=\"padding-left: 1em; padding-right: 1em; text-align: center\">Receipt</th>\n",
       "        <th style=\"padding-left: 1em; padding-right: 1em; text-align: center\">extracted_features</th>\n",
       "    </tr>\n",
       "    <tr>\n",
       "        <td style=\"padding-left: 1em; padding-right: 1em; text-align: center; vertical-align: top\">21855</td>\n",
       "        <td style=\"padding-left: 1em; padding-right: 1em; text-align: center; vertical-align: top\">[0.0, 1.0, 0.0, 0.0, 0.0,<br>0.0, 0.0, 0.0, 0.0, 0.0, ...</td>\n",
       "    </tr>\n",
       "    <tr>\n",
       "        <td style=\"padding-left: 1em; padding-right: 1em; text-align: center; vertical-align: top\">63664</td>\n",
       "        <td style=\"padding-left: 1em; padding-right: 1em; text-align: center; vertical-align: top\">[0.0, 0.0, 0.0, 0.0, 0.0,<br>0.0, 0.0, 0.0, 0.0, 0.0, ...</td>\n",
       "    </tr>\n",
       "    <tr>\n",
       "        <td style=\"padding-left: 1em; padding-right: 1em; text-align: center; vertical-align: top\">7899</td>\n",
       "        <td style=\"padding-left: 1em; padding-right: 1em; text-align: center; vertical-align: top\">[0.0, 0.0, 0.0, 0.0, 0.0,<br>1.0, 0.0, 0.0, 0.0, 0.0, ...</td>\n",
       "    </tr>\n",
       "    <tr>\n",
       "        <td style=\"padding-left: 1em; padding-right: 1em; text-align: center; vertical-align: top\">25263</td>\n",
       "        <td style=\"padding-left: 1em; padding-right: 1em; text-align: center; vertical-align: top\">[0.0, 0.0, 0.0, 0.0, 0.0,<br>0.0, 0.0, 0.0, 0.0, 0.0, ...</td>\n",
       "    </tr>\n",
       "    <tr>\n",
       "        <td style=\"padding-left: 1em; padding-right: 1em; text-align: center; vertical-align: top\">30621</td>\n",
       "        <td style=\"padding-left: 1em; padding-right: 1em; text-align: center; vertical-align: top\">[0.0, 0.0, 0.0, 0.0, 0.0,<br>0.0, 0.0, 1.0, 0.0, 0.0, ...</td>\n",
       "    </tr>\n",
       "    <tr>\n",
       "        <td style=\"padding-left: 1em; padding-right: 1em; text-align: center; vertical-align: top\">43116</td>\n",
       "        <td style=\"padding-left: 1em; padding-right: 1em; text-align: center; vertical-align: top\">[0.0, 0.0, 0.0, 1.0, 0.0,<br>0.0, 0.0, 0.0, 0.0, 0.0, ...</td>\n",
       "    </tr>\n",
       "    <tr>\n",
       "        <td style=\"padding-left: 1em; padding-right: 1em; text-align: center; vertical-align: top\">27112</td>\n",
       "        <td style=\"padding-left: 1em; padding-right: 1em; text-align: center; vertical-align: top\">[0.0, 0.0, 0.0, 0.0, 1.0,<br>0.0, 0.0, 0.0, 0.0, 0.0, ...</td>\n",
       "    </tr>\n",
       "    <tr>\n",
       "        <td style=\"padding-left: 1em; padding-right: 1em; text-align: center; vertical-align: top\">26319</td>\n",
       "        <td style=\"padding-left: 1em; padding-right: 1em; text-align: center; vertical-align: top\">[0.0, 1.0, 0.0, 0.0, 0.0,<br>0.0, 0.0, 0.0, 0.0, 0.0, ...</td>\n",
       "    </tr>\n",
       "    <tr>\n",
       "        <td style=\"padding-left: 1em; padding-right: 1em; text-align: center; vertical-align: top\">26439</td>\n",
       "        <td style=\"padding-left: 1em; padding-right: 1em; text-align: center; vertical-align: top\">[0.0, 0.0, 0.0, 0.0, 0.0,<br>0.0, 0.0, 0.0, 0.0, 1.0, ...</td>\n",
       "    </tr>\n",
       "    <tr>\n",
       "        <td style=\"padding-left: 1em; padding-right: 1em; text-align: center; vertical-align: top\">62361</td>\n",
       "        <td style=\"padding-left: 1em; padding-right: 1em; text-align: center; vertical-align: top\">[0.0, 0.0, 0.0, 0.0, 0.0,<br>0.0, 0.0, 0.0, 0.0, 0.0, ...</td>\n",
       "    </tr>\n",
       "</table>\n",
       "[75000 rows x 2 columns]<br/>Note: Only the head of the SFrame is printed.<br/>You can use print_rows(num_rows=m, num_columns=n) to print more rows and columns.\n",
       "</div>"
      ],
      "text/plain": [
       "Columns:\n",
       "\tReceipt\tint\n",
       "\textracted_features\tarray\n",
       "\n",
       "Rows: 75000\n",
       "\n",
       "Data:\n",
       "+---------+-------------------------------+\n",
       "| Receipt |       extracted_features      |\n",
       "+---------+-------------------------------+\n",
       "|  21855  | [0.0, 1.0, 0.0, 0.0, 0.0, ... |\n",
       "|  63664  | [0.0, 0.0, 0.0, 0.0, 0.0, ... |\n",
       "|   7899  | [0.0, 0.0, 0.0, 0.0, 0.0, ... |\n",
       "|  25263  | [0.0, 0.0, 0.0, 0.0, 0.0, ... |\n",
       "|  30621  | [0.0, 0.0, 0.0, 0.0, 0.0, ... |\n",
       "|  43116  | [0.0, 0.0, 0.0, 1.0, 0.0, ... |\n",
       "|  27112  | [0.0, 0.0, 0.0, 0.0, 1.0, ... |\n",
       "|  26319  | [0.0, 1.0, 0.0, 0.0, 0.0, ... |\n",
       "|  26439  | [0.0, 0.0, 0.0, 0.0, 0.0, ... |\n",
       "|  62361  | [0.0, 0.0, 0.0, 0.0, 0.0, ... |\n",
       "+---------+-------------------------------+\n",
       "[75000 rows x 2 columns]\n",
       "Note: Only the head of the SFrame is printed.\n",
       "You can use print_rows(num_rows=m, num_columns=n) to print more rows and columns."
      ]
     },
     "execution_count": 9,
     "metadata": {},
     "output_type": "execute_result"
    }
   ],
   "source": [
    "features"
   ]
  },
  {
   "cell_type": "code",
   "execution_count": null,
   "metadata": {
    "collapsed": true
   },
   "outputs": [],
   "source": []
  }
 ],
 "metadata": {
  "kernelspec": {
   "display_name": "Python 2",
   "language": "python",
   "name": "python2"
  },
  "language_info": {
   "codemirror_mode": {
    "name": "ipython",
    "version": 2
   },
   "file_extension": ".py",
   "mimetype": "text/x-python",
   "name": "python",
   "nbconvert_exporter": "python",
   "pygments_lexer": "ipython2",
   "version": "2.7.11"
  }
 },
 "nbformat": 4,
 "nbformat_minor": 0
}
